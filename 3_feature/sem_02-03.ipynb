{
 "cells": [
  {
   "cell_type": "markdown",
   "id": "acc5a9b0",
   "metadata": {
    "id": "acc5a9b0"
   },
   "source": [
    "# План семинара\n",
    "- Функционалы и метрики\n",
    "- Кросс-валидация\n",
    "- Переобучение и регуляризация\n",
    "- Гиперпараметры и их оптимизация"
   ]
  },
  {
   "cell_type": "markdown",
   "id": "f9e5ed40",
   "metadata": {
    "id": "f9e5ed40"
   },
   "source": [
    "# Функционалы и метрики\n",
    "\n",
    "Quick recap\n",
    "\n",
    "Функционал (или функция потерь == loss function)  - это функция, позволяющая обучить модель (то есть то, что мы стараемся оптимизировать, подбирая параметры модели - в случае линейной регрессии параметры - это веса)\n",
    "\n",
    "Метрика - это оценка качества модели, которую можно использовать к любым моделям (позволяет ответить на вопрос, насколько точно модель может предсказывать целевую переменную)\n",
    "\n",
    "Пример: Чтобы обучить линейную регрессию мы можем минизировать функционал MSE\n",
    "\n",
    "Если мы имеем n наблюдений и k признаков\n",
    "\n",
    "$\\Sigma_{i=0}^{n}(\\hat y_{i} - y_{i})^{2} \\rightarrow min_{w}$\n",
    "\n",
    "где $\\hat y_{i} = \\Sigma_{i=0}^{k}w_{k}X_{ik}$\n",
    "\n",
    "А как метрику можем использовать RMSE\n",
    "\n",
    "$RMSE = \\sqrt{\\Sigma_{i=0}^{n}(\\hat y_{i} - y_{i})^{2}}$\n",
    "\n",
    "Фундаментальное различие функционала и метрик в том, что метрика должна отражать нашу бизнес-задачу или научный вопрос, а функционал должен быть подобран так, чтобы он лучше лучше всего помогал достичь цель (позволял достичь наилучшных показателей метрики или метрик)\n",
    "\n",
    "Аналогия из обучения в вышке: Чтобы сдать матан, мы можем учить производные различных функций, то есть тогда наш функционал - это количество производных, которые мы знаем. А метрикой того, что мы сдали матан будет являться оценка, полученная в конце курса.\n",
    "\n",
    "Оценка в курсе - это понятная метрика, которую нам дал мир. А является ли зубрежка производных лучшим функционалом для достижения поставленной цели решать уже вам, как исследователям\n",
    "\n",
    "И еще, хотя функционал и метрики - это разные по смыслу и использованию инструменты, они могут быть считаться одинаково (то есть к примеру обучать линейную регрессию можно обучать с помощью функционала MSE, и проверять качество тоже можно с помощью MSE)"
   ]
  },
  {
   "cell_type": "code",
   "execution_count": 2,
   "id": "bf0cd6af",
   "metadata": {
    "ExecuteTime": {
     "end_time": "2021-09-20T20:03:51.857595Z",
     "start_time": "2021-09-20T20:03:51.853794Z"
    },
    "id": "bf0cd6af"
   },
   "outputs": [],
   "source": [
    "# pip install scikit-learn\n",
    "\n",
    "import pandas as pd\n",
    "import numpy as np\n",
    "import sklearn\n",
    "from sklearn.linear_model import SGDRegressor\n",
    "from sklearn.datasets import load_diabetes "
   ]
  },
  {
   "cell_type": "code",
   "execution_count": 3,
   "id": "479241c9",
   "metadata": {
    "ExecuteTime": {
     "end_time": "2021-09-20T20:03:51.868197Z",
     "start_time": "2021-09-20T20:03:51.860440Z"
    },
    "id": "479241c9"
   },
   "outputs": [],
   "source": [
    "np.random.seed(42)"
   ]
  },
  {
   "cell_type": "code",
   "execution_count": 45,
   "id": "d6afdc27",
   "metadata": {
    "ExecuteTime": {
     "end_time": "2021-09-20T20:03:51.891504Z",
     "start_time": "2021-09-20T20:03:51.889057Z"
    },
    "id": "d6afdc27"
   },
   "outputs": [],
   "source": [
    "import warnings\n",
    "warnings.filterwarnings('ignore')"
   ]
  },
  {
   "cell_type": "code",
   "execution_count": 47,
   "id": "dae1a3aa",
   "metadata": {},
   "outputs": [
    {
     "data": {
      "text/plain": [
       "(2, 3)"
      ]
     },
     "execution_count": 47,
     "metadata": {},
     "output_type": "execute_result"
    }
   ],
   "source": [
    "a, b = 2, 3\n",
    "a, b"
   ]
  },
  {
   "cell_type": "code",
   "execution_count": 49,
   "id": "818d9dff",
   "metadata": {
    "ExecuteTime": {
     "end_time": "2021-09-20T20:03:51.921761Z",
     "start_time": "2021-09-20T20:03:51.893244Z"
    },
    "id": "818d9dff"
   },
   "outputs": [],
   "source": [
    "X, y = load_diabetes(return_X_y=True,as_frame=True, scaled=True)\n"
   ]
  },
  {
   "cell_type": "code",
   "execution_count": 51,
   "id": "f53fecca",
   "metadata": {},
   "outputs": [
    {
     "data": {
      "text/html": [
       "<div>\n",
       "<style scoped>\n",
       "    .dataframe tbody tr th:only-of-type {\n",
       "        vertical-align: middle;\n",
       "    }\n",
       "\n",
       "    .dataframe tbody tr th {\n",
       "        vertical-align: top;\n",
       "    }\n",
       "\n",
       "    .dataframe thead th {\n",
       "        text-align: right;\n",
       "    }\n",
       "</style>\n",
       "<table border=\"1\" class=\"dataframe\">\n",
       "  <thead>\n",
       "    <tr style=\"text-align: right;\">\n",
       "      <th></th>\n",
       "      <th>age</th>\n",
       "      <th>sex</th>\n",
       "      <th>bmi</th>\n",
       "      <th>bp</th>\n",
       "      <th>s1</th>\n",
       "      <th>s2</th>\n",
       "      <th>s3</th>\n",
       "      <th>s4</th>\n",
       "      <th>s5</th>\n",
       "      <th>s6</th>\n",
       "    </tr>\n",
       "  </thead>\n",
       "  <tbody>\n",
       "    <tr>\n",
       "      <th>287</th>\n",
       "      <td>0.045341</td>\n",
       "      <td>-0.044642</td>\n",
       "      <td>-0.006206</td>\n",
       "      <td>-0.015999</td>\n",
       "      <td>0.125019</td>\n",
       "      <td>0.125198</td>\n",
       "      <td>0.019187</td>\n",
       "      <td>0.034309</td>\n",
       "      <td>0.032432</td>\n",
       "      <td>-0.005220</td>\n",
       "    </tr>\n",
       "    <tr>\n",
       "      <th>211</th>\n",
       "      <td>0.092564</td>\n",
       "      <td>-0.044642</td>\n",
       "      <td>0.036907</td>\n",
       "      <td>0.021872</td>\n",
       "      <td>-0.024960</td>\n",
       "      <td>-0.016658</td>\n",
       "      <td>0.000779</td>\n",
       "      <td>-0.039493</td>\n",
       "      <td>-0.022517</td>\n",
       "      <td>-0.021788</td>\n",
       "    </tr>\n",
       "  </tbody>\n",
       "</table>\n",
       "</div>"
      ],
      "text/plain": [
       "          age       sex       bmi        bp        s1        s2        s3  \\\n",
       "287  0.045341 -0.044642 -0.006206 -0.015999  0.125019  0.125198  0.019187   \n",
       "211  0.092564 -0.044642  0.036907  0.021872 -0.024960 -0.016658  0.000779   \n",
       "\n",
       "           s4        s5        s6  \n",
       "287  0.034309  0.032432 -0.005220  \n",
       "211 -0.039493 -0.022517 -0.021788  "
      ]
     },
     "execution_count": 51,
     "metadata": {},
     "output_type": "execute_result"
    }
   ],
   "source": [
    "X.sample(2, random_state = 42)"
   ]
  },
  {
   "cell_type": "code",
   "execution_count": 53,
   "id": "af29b203",
   "metadata": {},
   "outputs": [
    {
     "data": {
      "text/plain": [
       "287    219.0\n",
       "211     70.0\n",
       "Name: target, dtype: float64"
      ]
     },
     "execution_count": 53,
     "metadata": {},
     "output_type": "execute_result"
    }
   ],
   "source": [
    "y.sample(2, random_state = 42)"
   ]
  },
  {
   "cell_type": "code",
   "execution_count": 55,
   "id": "705ca49c",
   "metadata": {
    "ExecuteTime": {
     "end_time": "2021-09-20T20:03:51.942848Z",
     "start_time": "2021-09-20T20:03:51.923438Z"
    },
    "id": "705ca49c",
    "outputId": "c7472d8f-d761-4934-e090-b887dd2b1e58"
   },
   "outputs": [
    {
     "data": {
      "text/html": [
       "<div>\n",
       "<style scoped>\n",
       "    .dataframe tbody tr th:only-of-type {\n",
       "        vertical-align: middle;\n",
       "    }\n",
       "\n",
       "    .dataframe tbody tr th {\n",
       "        vertical-align: top;\n",
       "    }\n",
       "\n",
       "    .dataframe thead th {\n",
       "        text-align: right;\n",
       "    }\n",
       "</style>\n",
       "<table border=\"1\" class=\"dataframe\">\n",
       "  <thead>\n",
       "    <tr style=\"text-align: right;\">\n",
       "      <th></th>\n",
       "      <th>age</th>\n",
       "      <th>sex</th>\n",
       "      <th>bmi</th>\n",
       "      <th>bp</th>\n",
       "      <th>s1</th>\n",
       "      <th>s2</th>\n",
       "      <th>s3</th>\n",
       "      <th>s4</th>\n",
       "      <th>s5</th>\n",
       "      <th>s6</th>\n",
       "    </tr>\n",
       "  </thead>\n",
       "  <tbody>\n",
       "    <tr>\n",
       "      <th>count</th>\n",
       "      <td>442.000</td>\n",
       "      <td>442.000</td>\n",
       "      <td>442.000</td>\n",
       "      <td>442.000</td>\n",
       "      <td>442.000</td>\n",
       "      <td>442.000</td>\n",
       "      <td>442.000</td>\n",
       "      <td>442.000</td>\n",
       "      <td>442.000</td>\n",
       "      <td>442.000</td>\n",
       "    </tr>\n",
       "    <tr>\n",
       "      <th>mean</th>\n",
       "      <td>-0.000</td>\n",
       "      <td>0.000</td>\n",
       "      <td>-0.000</td>\n",
       "      <td>-0.000</td>\n",
       "      <td>-0.000</td>\n",
       "      <td>0.000</td>\n",
       "      <td>-0.000</td>\n",
       "      <td>-0.000</td>\n",
       "      <td>0.000</td>\n",
       "      <td>0.000</td>\n",
       "    </tr>\n",
       "    <tr>\n",
       "      <th>std</th>\n",
       "      <td>0.048</td>\n",
       "      <td>0.048</td>\n",
       "      <td>0.048</td>\n",
       "      <td>0.048</td>\n",
       "      <td>0.048</td>\n",
       "      <td>0.048</td>\n",
       "      <td>0.048</td>\n",
       "      <td>0.048</td>\n",
       "      <td>0.048</td>\n",
       "      <td>0.048</td>\n",
       "    </tr>\n",
       "    <tr>\n",
       "      <th>min</th>\n",
       "      <td>-0.107</td>\n",
       "      <td>-0.045</td>\n",
       "      <td>-0.090</td>\n",
       "      <td>-0.112</td>\n",
       "      <td>-0.127</td>\n",
       "      <td>-0.116</td>\n",
       "      <td>-0.102</td>\n",
       "      <td>-0.076</td>\n",
       "      <td>-0.126</td>\n",
       "      <td>-0.138</td>\n",
       "    </tr>\n",
       "    <tr>\n",
       "      <th>25%</th>\n",
       "      <td>-0.037</td>\n",
       "      <td>-0.045</td>\n",
       "      <td>-0.034</td>\n",
       "      <td>-0.037</td>\n",
       "      <td>-0.034</td>\n",
       "      <td>-0.030</td>\n",
       "      <td>-0.035</td>\n",
       "      <td>-0.039</td>\n",
       "      <td>-0.033</td>\n",
       "      <td>-0.033</td>\n",
       "    </tr>\n",
       "    <tr>\n",
       "      <th>50%</th>\n",
       "      <td>0.005</td>\n",
       "      <td>-0.045</td>\n",
       "      <td>-0.007</td>\n",
       "      <td>-0.006</td>\n",
       "      <td>-0.004</td>\n",
       "      <td>-0.004</td>\n",
       "      <td>-0.007</td>\n",
       "      <td>-0.003</td>\n",
       "      <td>-0.002</td>\n",
       "      <td>-0.001</td>\n",
       "    </tr>\n",
       "    <tr>\n",
       "      <th>75%</th>\n",
       "      <td>0.038</td>\n",
       "      <td>0.051</td>\n",
       "      <td>0.031</td>\n",
       "      <td>0.036</td>\n",
       "      <td>0.028</td>\n",
       "      <td>0.030</td>\n",
       "      <td>0.029</td>\n",
       "      <td>0.034</td>\n",
       "      <td>0.032</td>\n",
       "      <td>0.028</td>\n",
       "    </tr>\n",
       "    <tr>\n",
       "      <th>max</th>\n",
       "      <td>0.111</td>\n",
       "      <td>0.051</td>\n",
       "      <td>0.171</td>\n",
       "      <td>0.132</td>\n",
       "      <td>0.154</td>\n",
       "      <td>0.199</td>\n",
       "      <td>0.181</td>\n",
       "      <td>0.185</td>\n",
       "      <td>0.134</td>\n",
       "      <td>0.136</td>\n",
       "    </tr>\n",
       "  </tbody>\n",
       "</table>\n",
       "</div>"
      ],
      "text/plain": [
       "           age      sex      bmi       bp       s1       s2       s3       s4  \\\n",
       "count  442.000  442.000  442.000  442.000  442.000  442.000  442.000  442.000   \n",
       "mean    -0.000    0.000   -0.000   -0.000   -0.000    0.000   -0.000   -0.000   \n",
       "std      0.048    0.048    0.048    0.048    0.048    0.048    0.048    0.048   \n",
       "min     -0.107   -0.045   -0.090   -0.112   -0.127   -0.116   -0.102   -0.076   \n",
       "25%     -0.037   -0.045   -0.034   -0.037   -0.034   -0.030   -0.035   -0.039   \n",
       "50%      0.005   -0.045   -0.007   -0.006   -0.004   -0.004   -0.007   -0.003   \n",
       "75%      0.038    0.051    0.031    0.036    0.028    0.030    0.029    0.034   \n",
       "max      0.111    0.051    0.171    0.132    0.154    0.199    0.181    0.185   \n",
       "\n",
       "            s5       s6  \n",
       "count  442.000  442.000  \n",
       "mean     0.000    0.000  \n",
       "std      0.048    0.048  \n",
       "min     -0.126   -0.138  \n",
       "25%     -0.033   -0.033  \n",
       "50%     -0.002   -0.001  \n",
       "75%      0.032    0.028  \n",
       "max      0.134    0.136  "
      ]
     },
     "execution_count": 55,
     "metadata": {},
     "output_type": "execute_result"
    }
   ],
   "source": [
    "round(X.describe(), 3)"
   ]
  },
  {
   "cell_type": "code",
   "execution_count": 57,
   "id": "9e6e3ca3",
   "metadata": {
    "ExecuteTime": {
     "end_time": "2021-09-20T20:03:51.955438Z",
     "start_time": "2021-09-20T20:03:51.947473Z"
    },
    "id": "9e6e3ca3",
    "outputId": "8925d113-07be-4f4a-bd71-b4ebe3ef926c"
   },
   "outputs": [
    {
     "data": {
      "text/plain": [
       "0      151.0\n",
       "1       75.0\n",
       "2      141.0\n",
       "3      206.0\n",
       "4      135.0\n",
       "       ...  \n",
       "437    178.0\n",
       "438    104.0\n",
       "439    132.0\n",
       "440    220.0\n",
       "441     57.0\n",
       "Name: target, Length: 442, dtype: float64"
      ]
     },
     "execution_count": 57,
     "metadata": {},
     "output_type": "execute_result"
    }
   ],
   "source": [
    "y"
   ]
  },
  {
   "cell_type": "code",
   "execution_count": 59,
   "id": "093f5695",
   "metadata": {
    "ExecuteTime": {
     "end_time": "2021-09-20T20:03:51.962949Z",
     "start_time": "2021-09-20T20:03:51.957145Z"
    },
    "id": "093f5695"
   },
   "outputs": [],
   "source": [
    "# Разобьем данные на обучающую и тестовую выборки\n",
    "\n",
    "from sklearn.model_selection import train_test_split\n",
    "\n",
    "X_train, X_test, y_train, y_test = train_test_split(X, y, test_size=0.3)"
   ]
  },
  {
   "cell_type": "code",
   "execution_count": 61,
   "id": "ef944OHib88V",
   "metadata": {
    "id": "ef944OHib88V",
    "outputId": "9c6de041-97af-4bf7-c14f-b878ece1d891"
   },
   "outputs": [
    {
     "name": "stdout",
     "output_type": "stream",
     "text": [
      "%pylab is deprecated, use %matplotlib inline and import the required libraries.\n",
      "Populating the interactive namespace from numpy and matplotlib\n"
     ]
    },
    {
     "data": {
      "image/png": "[encoded data removed]",
      "text/plain": [
       "<Figure size 640x480 with 1 Axes>"
      ]
     },
     "metadata": {},
     "output_type": "display_data"
    }
   ],
   "source": [
    "from matplotlib import pylab as plt\n",
    "%pylab inline\n",
    "\n",
    "plt.hist(y, bins = 30)\n",
    "plt.title('Распределение таргета')\n",
    "plt.grid()"
   ]
  },
  {
   "cell_type": "markdown",
   "id": "912f1b35",
   "metadata": {
    "id": "912f1b35"
   },
   "source": [
    "Как было рассказано на лекции, линейную регрессию можно обучать с помощью разного функционала (не только MSE, который мы разбирали на прошлом семинаре) и оценивать с помощью разных метрик - закодим это "
   ]
  },
  {
   "cell_type": "code",
   "execution_count": 64,
   "id": "UuoWoq1rb88W",
   "metadata": {
    "id": "UuoWoq1rb88W",
    "outputId": "aaa9d7a7-f070-48c9-f2ee-9a2971ef3872"
   },
   "outputs": [
    {
     "data": {
      "image/png": "[encoded data removed]",
      "text/plain": [
       "<Figure size 640x480 with 1 Axes>"
      ]
     },
     "metadata": {},
     "output_type": "display_data"
    }
   ],
   "source": [
    "plt.hist(y_train, bins = 30)\n",
    "plt.title('Распределение таргета train')\n",
    "plt.grid()"
   ]
  },
  {
   "cell_type": "code",
   "execution_count": 65,
   "id": "XmATyDfab88W",
   "metadata": {
    "id": "XmATyDfab88W",
    "outputId": "c9cd13ed-8f60-4992-c428-a2bd0ee7ff2e"
   },
   "outputs": [
    {
     "data": {
      "image/png": "[encoded data removed]",
      "text/plain": [
       "<Figure size 640x480 with 1 Axes>"
      ]
     },
     "metadata": {},
     "output_type": "display_data"
    }
   ],
   "source": [
    "plt.hist(y_test, bins = 30)\n",
    "plt.title('Распределение таргета test')\n",
    "plt.grid()"
   ]
  },
  {
   "cell_type": "code",
   "execution_count": 66,
   "id": "10e0432b",
   "metadata": {},
   "outputs": [
    {
     "data": {
      "text/plain": [
       "(0.3009049773755656, 0.6990950226244343)"
      ]
     },
     "execution_count": 66,
     "metadata": {},
     "output_type": "execute_result"
    }
   ],
   "source": [
    "len(y_test)/len(y), len(y_train)/len(y)"
   ]
  },
  {
   "cell_type": "code",
   "execution_count": 67,
   "id": "5bc14aeb",
   "metadata": {},
   "outputs": [],
   "source": [
    "X_test_mini = X_test.iloc[:2]"
   ]
  },
  {
   "cell_type": "code",
   "execution_count": 68,
   "id": "36c143cd",
   "metadata": {},
   "outputs": [
    {
     "data": {
      "text/html": [
       "<div>\n",
       "<style scoped>\n",
       "    .dataframe tbody tr th:only-of-type {\n",
       "        vertical-align: middle;\n",
       "    }\n",
       "\n",
       "    .dataframe tbody tr th {\n",
       "        vertical-align: top;\n",
       "    }\n",
       "\n",
       "    .dataframe thead th {\n",
       "        text-align: right;\n",
       "    }\n",
       "</style>\n",
       "<table border=\"1\" class=\"dataframe\">\n",
       "  <thead>\n",
       "    <tr style=\"text-align: right;\">\n",
       "      <th></th>\n",
       "      <th>age</th>\n",
       "      <th>sex</th>\n",
       "      <th>bmi</th>\n",
       "      <th>bp</th>\n",
       "      <th>s1</th>\n",
       "      <th>s2</th>\n",
       "      <th>s3</th>\n",
       "      <th>s4</th>\n",
       "      <th>s5</th>\n",
       "      <th>s6</th>\n",
       "    </tr>\n",
       "  </thead>\n",
       "  <tbody>\n",
       "    <tr>\n",
       "      <th>331</th>\n",
       "      <td>0.081666</td>\n",
       "      <td>0.05068</td>\n",
       "      <td>-0.025607</td>\n",
       "      <td>-0.036656</td>\n",
       "      <td>-0.070367</td>\n",
       "      <td>-0.046407</td>\n",
       "      <td>-0.039719</td>\n",
       "      <td>-0.002592</td>\n",
       "      <td>-0.041176</td>\n",
       "      <td>-0.005220</td>\n",
       "    </tr>\n",
       "    <tr>\n",
       "      <th>341</th>\n",
       "      <td>0.030811</td>\n",
       "      <td>0.05068</td>\n",
       "      <td>0.059541</td>\n",
       "      <td>0.056301</td>\n",
       "      <td>-0.022208</td>\n",
       "      <td>0.001191</td>\n",
       "      <td>-0.032356</td>\n",
       "      <td>-0.002592</td>\n",
       "      <td>-0.024795</td>\n",
       "      <td>-0.017646</td>\n",
       "    </tr>\n",
       "  </tbody>\n",
       "</table>\n",
       "</div>"
      ],
      "text/plain": [
       "          age      sex       bmi        bp        s1        s2        s3  \\\n",
       "331  0.081666  0.05068 -0.025607 -0.036656 -0.070367 -0.046407 -0.039719   \n",
       "341  0.030811  0.05068  0.059541  0.056301 -0.022208  0.001191 -0.032356   \n",
       "\n",
       "           s4        s5        s6  \n",
       "331 -0.002592 -0.041176 -0.005220  \n",
       "341 -0.002592 -0.024795 -0.017646  "
      ]
     },
     "execution_count": 68,
     "metadata": {},
     "output_type": "execute_result"
    }
   ],
   "source": [
    "X_test_mini"
   ]
  },
  {
   "cell_type": "code",
   "execution_count": 69,
   "id": "b266dd96",
   "metadata": {
    "ExecuteTime": {
     "end_time": "2021-09-20T20:03:52.207120Z",
     "start_time": "2021-09-20T20:03:51.964240Z"
    },
    "id": "b266dd96",
    "outputId": "70d52319-5241-4d90-faea-45b008a6be8a"
   },
   "outputs": [
    {
     "name": "stdout",
     "output_type": "stream",
     "text": [
      "MSE loss: \n",
      "mae=46.82736610287794\n",
      "mse=3313.97172625828\n",
      "R2=0.44970349504223306\n",
      "\n",
      "MAE loss: \n",
      "mae=63.79595858052617\n",
      "mse=6562.543500459399\n",
      "R2=-0.08973312093208263\n",
      "\n",
      "MSE loss TRAIN: \n",
      "mae=43.54956774393586\n",
      "mse=2835.1940907902635\n",
      "R2=0.5182050642957537\n",
      "\n"
     ]
    }
   ],
   "source": [
    "from sklearn.metrics import mean_squared_error, mean_absolute_error, r2_score\n",
    "\n",
    "lr_mse = SGDRegressor(max_iter=50000) # MSE\n",
    "lr_mae = SGDRegressor(loss='epsilon_insensitive', epsilon=0, max_iter=50000) # MAE\n",
    "\n",
    "lr_mse.fit(X_train, y_train)\n",
    "lr_mae.fit(X_train, y_train)\n",
    "\n",
    "y_pred_mse = lr_mse.predict(X_test)\n",
    "y_pred_mae = lr_mae.predict(X_test)\n",
    "\n",
    "print(f'''MSE loss: \n",
    "mae={mean_absolute_error(y_test, y_pred_mse)}\n",
    "mse={mean_squared_error(y_test, y_pred_mse)}\n",
    "R2={r2_score(y_test, y_pred_mse)}\n",
    "''')\n",
    "\n",
    "print(f'''MAE loss: \n",
    "mae={mean_absolute_error(y_test, y_pred_mae)}\n",
    "mse={mean_squared_error(y_test, y_pred_mae)}\n",
    "R2={r2_score(y_test, y_pred_mae)}\n",
    "''')\n",
    "\n",
    "print(f'''MSE loss TRAIN: \n",
    "mae={mean_absolute_error(y_train, lr_mse.predict(X_train))}\n",
    "mse={mean_squared_error(y_train, lr_mse.predict(X_train))}\n",
    "R2={r2_score(y_train, lr_mse.predict(X_train))}\n",
    "''')\n",
    "\n"
   ]
  },
  {
   "cell_type": "code",
   "execution_count": 70,
   "id": "0b68b91a",
   "metadata": {},
   "outputs": [
    {
     "data": {
      "image/png": "[encoded data removed]",
      "text/plain": [
       "<Figure size 640x480 with 1 Axes>"
      ]
     },
     "metadata": {},
     "output_type": "display_data"
    }
   ],
   "source": [
    "plt.hist((y_test-y_pred_mse)**2, bins=30)\n",
    "plt.show()"
   ]
  },
  {
   "cell_type": "code",
   "execution_count": 71,
   "id": "5b6422e4",
   "metadata": {},
   "outputs": [
    {
     "data": {
      "image/png": "[encoded data removed]",
      "text/plain": [
       "<Figure size 640x480 with 1 Axes>"
      ]
     },
     "metadata": {},
     "output_type": "display_data"
    }
   ],
   "source": [
    "plt.hist(np.abs((y_test-y_pred_mse)), bins=30)\n",
    "plt.show()"
   ]
  },
  {
   "cell_type": "code",
   "execution_count": 72,
   "id": "1c95ddb0",
   "metadata": {},
   "outputs": [
    {
     "data": {
      "image/png": "[encoded data removed]",
      "text/plain": [
       "<Figure size 640x480 with 1 Axes>"
      ]
     },
     "metadata": {},
     "output_type": "display_data"
    }
   ],
   "source": [
    "plt.hist(np.abs((y_test-y_pred_mse)/y_test * 100), bins=30)\n",
    "plt.show()"
   ]
  },
  {
   "cell_type": "code",
   "execution_count": 73,
   "id": "3e0accfc",
   "metadata": {},
   "outputs": [
    {
     "data": {
      "text/plain": [
       "age    0.001751\n",
       "sex   -0.044642\n",
       "bmi   -0.008362\n",
       "bp    -0.064199\n",
       "s1    -0.038720\n",
       "s2    -0.024487\n",
       "s3     0.004460\n",
       "s4    -0.039493\n",
       "s5    -0.064685\n",
       "s6    -0.054925\n",
       "Name: 297, dtype: float64"
      ]
     },
     "execution_count": 73,
     "metadata": {},
     "output_type": "execute_result"
    }
   ],
   "source": [
    "X_test.iloc[(np.abs((y_test-y_pred_mse)/y_test)).argmax()]"
   ]
  },
  {
   "cell_type": "markdown",
   "id": "19825a90",
   "metadata": {
    "id": "19825a90"
   },
   "source": [
    "Как мы говорили раньше, метрика должна отражать реальную цель из мира, поэтому нередко возникает потребность в написании своих собственных метрик, которые лучше описывают вашу конретную реальность. В задачах, связанных с медициной (как у нас сейчас), довольно высокая цена ошибки (у человека есть диабет, а мы его не нашли). Поэтому для того, чтобы ответить на вопрос, можно ли модель использовать в жизни, имеет смысл использовать метрику максимальной ошибки модели\n",
    "\n",
    "$max error = max(|\\hat y_{i} - y_{i}|)$"
   ]
  },
  {
   "cell_type": "code",
   "execution_count": 76,
   "id": "08903158",
   "metadata": {},
   "outputs": [],
   "source": [
    "a = [120, 130, 156, 183, 194, 201]"
   ]
  },
  {
   "cell_type": "code",
   "execution_count": 77,
   "id": "4897f415",
   "metadata": {},
   "outputs": [
    {
     "data": {
      "text/plain": [
       "164.0"
      ]
     },
     "execution_count": 77,
     "metadata": {},
     "output_type": "execute_result"
    }
   ],
   "source": [
    "np.sum(a)/6"
   ]
  },
  {
   "cell_type": "code",
   "execution_count": 78,
   "id": "0af21500",
   "metadata": {
    "ExecuteTime": {
     "end_time": "2021-09-20T20:03:52.213290Z",
     "start_time": "2021-09-20T20:03:52.208515Z"
    },
    "id": "0af21500",
    "outputId": "3796e0bf-e203-46ab-d4de-18aa0527a2d1"
   },
   "outputs": [
    {
     "name": "stdout",
     "output_type": "stream",
     "text": [
      "MSE Loss: 162.35320097394782\n",
      "MAE Loss: 204.77190424165067\n"
     ]
    }
   ],
   "source": [
    "def max_error(y_true, y_pred):\n",
    "    max_erorr = np.abs(y_true - y_pred).max()\n",
    "    return max_erorr\n",
    "\n",
    "def quantile_error(y_true, y_pred, q=0.95):\n",
    "    q_error = np.quantile(np.abs(y_true -  y_pred), q)\n",
    "    return q_error\n",
    "\n",
    "# Оценим максимальную ошибку в обоих случаях\n",
    "\n",
    "print(f'MSE Loss: {max_error(y_test, y_pred_mse)}')\n",
    "print(f'MAE Loss: {max_error(y_test, y_pred_mae)}')"
   ]
  },
  {
   "cell_type": "markdown",
   "id": "afbc9291",
   "metadata": {
    "id": "afbc9291"
   },
   "source": [
    "BTW, в sklearn есть большое количество уже реализованных метрик - можете посмотреть их список и варианты применения здесь\n",
    "\n",
    "https://scikit-learn.org/stable/modules/model_evaluation.html#regression-metrics"
   ]
  },
  {
   "cell_type": "markdown",
   "id": "eecb1ad2",
   "metadata": {
    "id": "eecb1ad2"
   },
   "source": [
    "#  Кросс-валидация"
   ]
  },
  {
   "cell_type": "markdown",
   "id": "9107f201",
   "metadata": {
    "id": "9107f201"
   },
   "source": [
    "Когда выбран функционал и метрика, можно задаться вопросом: а насколько я могу доверять полученным результатам (значениям метрики), не являются ли они случайности или совпадением ? Кросс-валидация - это инструмент для ответа на этот вопрос."
   ]
  },
  {
   "cell_type": "code",
   "execution_count": 82,
   "id": "316b94f3",
   "metadata": {
    "ExecuteTime": {
     "end_time": "2021-09-20T20:03:52.216719Z",
     "start_time": "2021-09-20T20:03:52.214661Z"
    },
    "id": "316b94f3"
   },
   "outputs": [],
   "source": [
    "from sklearn.model_selection import cross_validate, cross_val_score"
   ]
  },
  {
   "cell_type": "markdown",
   "id": "244c3991",
   "metadata": {
    "id": "244c3991"
   },
   "source": [
    "здесь можно посмотреть какие параметры требуются для этой функции\n",
    "https://scikit-learn.org/stable/modules/generated/sklearn.model_selection.cross_validate.html"
   ]
  },
  {
   "cell_type": "code",
   "execution_count": 84,
   "id": "05b21625",
   "metadata": {
    "ExecuteTime": {
     "end_time": "2021-09-20T20:03:53.112215Z",
     "start_time": "2021-09-20T20:03:52.218043Z"
    },
    "id": "05b21625",
    "outputId": "4db21f92-4153-4dcc-aa6f-ea5b6480e7a9"
   },
   "outputs": [
    {
     "name": "stdout",
     "output_type": "stream",
     "text": [
      "[CV] END ..................................., score=-3005.231 total time=   0.1s\n",
      "[CV] END ..................................., score=-3028.531 total time=   0.3s\n",
      "[CV] END ..................................., score=-3160.230 total time=   0.2s\n",
      "[CV] END ..................................., score=-2910.330 total time=   0.3s\n",
      "[CV] END ..................................., score=-3033.709 total time=   0.2s\n",
      "test mse errors are [-3005.23084487 -3028.53069372 -3160.23007258 -2910.32984361\n",
      " -3033.70907605]\n",
      "mean test mse = -3027.606106164169\n"
     ]
    }
   ],
   "source": [
    "# проверим на кросс-валидации значения ошибок MSE, MAE, R2 \n",
    "# для линейной регрессии, обученной с помощью функционала MSE\n",
    "\n",
    "num_splits=5\n",
    "\n",
    "cv_res = cross_validate(lr_mse,\n",
    "                     X,\n",
    "                     y,\n",
    "                     scoring='neg_mean_squared_error', # метрика, которую нужно оценить\n",
    "                     cv=num_splits, # количество разбиений или класс-сплиттер\n",
    "                     verbose = 4\n",
    "                    )\n",
    "\n",
    "print(f\"test mse errors are {cv_res['test_score']}\")\n",
    "print(f\"mean test mse = {cv_res['test_score'].mean()}\")"
   ]
  },
  {
   "cell_type": "code",
   "execution_count": 85,
   "id": "e584c1e1",
   "metadata": {},
   "outputs": [
    {
     "data": {
      "text/plain": [
       "{'fit_time': array([0.23909569, 0.36256051, 0.28894496, 0.35243511, 0.27626538]),\n",
       " 'score_time': array([0.00200844, 0.00237656, 0.00200891, 0.00227308, 0.00212121]),\n",
       " 'test_score': array([-3005.23084487, -3028.53069372, -3160.23007258, -2910.32984361,\n",
       "        -3033.70907605])}"
      ]
     },
     "execution_count": 85,
     "metadata": {},
     "output_type": "execute_result"
    }
   ],
   "source": [
    "cv_res"
   ]
  },
  {
   "cell_type": "code",
   "execution_count": 87,
   "id": "ab5906ac",
   "metadata": {
    "ExecuteTime": {
     "end_time": "2021-09-20T20:03:54.005611Z",
     "start_time": "2021-09-20T20:03:53.114755Z"
    },
    "id": "ab5906ac",
    "outputId": "3db202e5-66e6-42bb-ca43-2dc66dc0cea0"
   },
   "outputs": [
    {
     "name": "stdout",
     "output_type": "stream",
     "text": [
      "test mse errors are [-2972.97367403 -3030.364651   -3169.46826541 -2896.02952274\n",
      " -3031.17941394] \n",
      "and  mean mse = -3020.0031054237434\n",
      "\n",
      "test mae errors are [-44.92305832 -44.92543003 -48.13617648 -42.7292507  -43.88960377] \n",
      "and  mean mae = -44.920703859434056\n",
      "\n",
      "test R2 are [0.389942   0.5223585  0.49358066 0.44798293 0.53155383] \n",
      "and  mean R2 = 0.4770835843706642\n",
      "\n"
     ]
    }
   ],
   "source": [
    "# Проведем кросс-валидацию сразу для нескольких метрик\n",
    "\n",
    "cv_res2 = cross_validate(lr_mse,\n",
    "                     X,\n",
    "                     y,\n",
    "                     scoring=['neg_mean_squared_error', 'neg_mean_absolute_error', 'r2'],\n",
    "                     cv=num_splits\n",
    "                    )\n",
    "print(f\"\"\"test mse errors are {cv_res2['test_neg_mean_squared_error']} \n",
    "and  mean mse = {cv_res2['test_neg_mean_squared_error'].mean()}\n",
    "\"\"\")\n",
    "\n",
    "print(f\"\"\"test mae errors are {cv_res2['test_neg_mean_absolute_error']} \n",
    "and  mean mae = {cv_res2['test_neg_mean_absolute_error'].mean()}\n",
    "\"\"\")\n",
    "\n",
    "\n",
    "print(f\"\"\"test R2 are {cv_res2['test_r2']} \n",
    "and  mean R2 = {cv_res2['test_r2'].mean()}\n",
    "\"\"\")\n"
   ]
  },
  {
   "cell_type": "code",
   "execution_count": 89,
   "id": "2a273212",
   "metadata": {},
   "outputs": [
    {
     "data": {
      "text/html": [
       "<div>\n",
       "<style scoped>\n",
       "    .dataframe tbody tr th:only-of-type {\n",
       "        vertical-align: middle;\n",
       "    }\n",
       "\n",
       "    .dataframe tbody tr th {\n",
       "        vertical-align: top;\n",
       "    }\n",
       "\n",
       "    .dataframe thead th {\n",
       "        text-align: right;\n",
       "    }\n",
       "</style>\n",
       "<table border=\"1\" class=\"dataframe\">\n",
       "  <thead>\n",
       "    <tr style=\"text-align: right;\">\n",
       "      <th></th>\n",
       "      <th>fit_time</th>\n",
       "      <th>score_time</th>\n",
       "      <th>test_neg_mean_squared_error</th>\n",
       "      <th>test_neg_mean_absolute_error</th>\n",
       "      <th>test_r2</th>\n",
       "    </tr>\n",
       "  </thead>\n",
       "  <tbody>\n",
       "    <tr>\n",
       "      <th>0</th>\n",
       "      <td>0.276809</td>\n",
       "      <td>0.003609</td>\n",
       "      <td>-2972.973674</td>\n",
       "      <td>-44.923058</td>\n",
       "      <td>0.389942</td>\n",
       "    </tr>\n",
       "    <tr>\n",
       "      <th>1</th>\n",
       "      <td>0.328614</td>\n",
       "      <td>0.003025</td>\n",
       "      <td>-3030.364651</td>\n",
       "      <td>-44.925430</td>\n",
       "      <td>0.522358</td>\n",
       "    </tr>\n",
       "    <tr>\n",
       "      <th>2</th>\n",
       "      <td>0.274653</td>\n",
       "      <td>0.004007</td>\n",
       "      <td>-3169.468265</td>\n",
       "      <td>-48.136176</td>\n",
       "      <td>0.493581</td>\n",
       "    </tr>\n",
       "    <tr>\n",
       "      <th>3</th>\n",
       "      <td>0.298331</td>\n",
       "      <td>0.004519</td>\n",
       "      <td>-2896.029523</td>\n",
       "      <td>-42.729251</td>\n",
       "      <td>0.447983</td>\n",
       "    </tr>\n",
       "    <tr>\n",
       "      <th>4</th>\n",
       "      <td>0.305912</td>\n",
       "      <td>0.003065</td>\n",
       "      <td>-3031.179414</td>\n",
       "      <td>-43.889604</td>\n",
       "      <td>0.531554</td>\n",
       "    </tr>\n",
       "  </tbody>\n",
       "</table>\n",
       "</div>"
      ],
      "text/plain": [
       "   fit_time  score_time  test_neg_mean_squared_error  \\\n",
       "0  0.276809    0.003609                 -2972.973674   \n",
       "1  0.328614    0.003025                 -3030.364651   \n",
       "2  0.274653    0.004007                 -3169.468265   \n",
       "3  0.298331    0.004519                 -2896.029523   \n",
       "4  0.305912    0.003065                 -3031.179414   \n",
       "\n",
       "   test_neg_mean_absolute_error   test_r2  \n",
       "0                    -44.923058  0.389942  \n",
       "1                    -44.925430  0.522358  \n",
       "2                    -48.136176  0.493581  \n",
       "3                    -42.729251  0.447983  \n",
       "4                    -43.889604  0.531554  "
      ]
     },
     "execution_count": 89,
     "metadata": {},
     "output_type": "execute_result"
    }
   ],
   "source": [
    "pd.DataFrame(cv_res2)"
   ]
  },
  {
   "cell_type": "code",
   "execution_count": 90,
   "id": "c79294c0",
   "metadata": {},
   "outputs": [],
   "source": [
    "def max_error(y_true, y_pred):\n",
    "    max_erorr = np.abs(y_true - y_pred).max()\n",
    "    return max_erorr"
   ]
  },
  {
   "cell_type": "code",
   "execution_count": 91,
   "id": "8cb5c351",
   "metadata": {
    "ExecuteTime": {
     "end_time": "2021-09-20T20:03:54.925817Z",
     "start_time": "2021-09-20T20:03:54.007607Z"
    },
    "id": "8cb5c351",
    "outputId": "a95df431-f9f8-4356-8242-d0c11ade7a08"
   },
   "outputs": [
    {
     "data": {
      "text/plain": [
       "array([-136.84479587, -161.69825227, -120.54036069, -129.9607894 ,\n",
       "       -135.25342634])"
      ]
     },
     "execution_count": 91,
     "metadata": {},
     "output_type": "execute_result"
    }
   ],
   "source": [
    "# для тех, кто хочет хочет дополнительно подумать\n",
    "\n",
    "# кросс-валидацию можно проводить на основе своей кастомной метрики, но для этого\n",
    "# из нее нужно сделать объект scorer\n",
    "\n",
    "from sklearn.metrics import make_scorer\n",
    "\n",
    "max_error_scorer = make_scorer(max_error, greater_is_better=False)\n",
    "\n",
    "cv_res3 = cross_validate(lr_mse,\n",
    "                     X,\n",
    "                     y,\n",
    "                     scoring=max_error_scorer,\n",
    "                     cv=num_splits\n",
    "                    )\n",
    "cv_res3['test_score']"
   ]
  },
  {
   "cell_type": "markdown",
   "id": "a85e17c6",
   "metadata": {
    "id": "a85e17c6"
   },
   "source": [
    "# Немного feature engineering"
   ]
  },
  {
   "cell_type": "markdown",
   "id": "192c235d",
   "metadata": {
    "id": "192c235d"
   },
   "source": [
    "Один из самых главных источников улучшения качества прогноза модели - это информативный набор признаков. Поэтому в попытке улучшить качество нашей модели обогатим наше признаковое пространство попарныи произведениями признаков"
   ]
  },
  {
   "cell_type": "code",
   "execution_count": 96,
   "id": "3f268b47",
   "metadata": {
    "ExecuteTime": {
     "end_time": "2021-09-20T20:03:54.996285Z",
     "start_time": "2021-09-20T20:03:54.927938Z"
    },
    "id": "3f268b47",
    "outputId": "730e1db5-c7ee-4009-ab2d-3926a3c639a4"
   },
   "outputs": [
    {
     "name": "stdout",
     "output_type": "stream",
     "text": [
      "Index(['age', 'sex', 'bmi', 'bp', 's1', 's2', 's3', 's4', 's5', 's6'], dtype='object')\n"
     ]
    },
    {
     "data": {
      "text/html": [
       "<div>\n",
       "<style scoped>\n",
       "    .dataframe tbody tr th:only-of-type {\n",
       "        vertical-align: middle;\n",
       "    }\n",
       "\n",
       "    .dataframe tbody tr th {\n",
       "        vertical-align: top;\n",
       "    }\n",
       "\n",
       "    .dataframe thead th {\n",
       "        text-align: right;\n",
       "    }\n",
       "</style>\n",
       "<table border=\"1\" class=\"dataframe\">\n",
       "  <thead>\n",
       "    <tr style=\"text-align: right;\">\n",
       "      <th></th>\n",
       "      <th>age</th>\n",
       "      <th>sex</th>\n",
       "      <th>bmi</th>\n",
       "      <th>bp</th>\n",
       "      <th>s1</th>\n",
       "      <th>s2</th>\n",
       "      <th>s3</th>\n",
       "      <th>s4</th>\n",
       "      <th>s5</th>\n",
       "      <th>s6</th>\n",
       "      <th>...</th>\n",
       "      <th>s6_x_age</th>\n",
       "      <th>s6_x_sex</th>\n",
       "      <th>s6_x_bmi</th>\n",
       "      <th>s6_x_bp</th>\n",
       "      <th>s6_x_s1</th>\n",
       "      <th>s6_x_s2</th>\n",
       "      <th>s6_x_s3</th>\n",
       "      <th>s6_x_s4</th>\n",
       "      <th>s6_x_s5</th>\n",
       "      <th>s6_x_s6</th>\n",
       "    </tr>\n",
       "  </thead>\n",
       "  <tbody>\n",
       "    <tr>\n",
       "      <th>0</th>\n",
       "      <td>0.038076</td>\n",
       "      <td>0.050680</td>\n",
       "      <td>0.061696</td>\n",
       "      <td>0.021872</td>\n",
       "      <td>-0.044223</td>\n",
       "      <td>-0.034821</td>\n",
       "      <td>-0.043401</td>\n",
       "      <td>-0.002592</td>\n",
       "      <td>0.019907</td>\n",
       "      <td>-0.017646</td>\n",
       "      <td>...</td>\n",
       "      <td>-0.000672</td>\n",
       "      <td>-0.000894</td>\n",
       "      <td>-0.001089</td>\n",
       "      <td>-0.000386</td>\n",
       "      <td>0.000780</td>\n",
       "      <td>0.000614</td>\n",
       "      <td>0.000766</td>\n",
       "      <td>0.000046</td>\n",
       "      <td>-0.000351</td>\n",
       "      <td>0.000311</td>\n",
       "    </tr>\n",
       "    <tr>\n",
       "      <th>1</th>\n",
       "      <td>-0.001882</td>\n",
       "      <td>-0.044642</td>\n",
       "      <td>-0.051474</td>\n",
       "      <td>-0.026328</td>\n",
       "      <td>-0.008449</td>\n",
       "      <td>-0.019163</td>\n",
       "      <td>0.074412</td>\n",
       "      <td>-0.039493</td>\n",
       "      <td>-0.068332</td>\n",
       "      <td>-0.092204</td>\n",
       "      <td>...</td>\n",
       "      <td>0.000174</td>\n",
       "      <td>0.004116</td>\n",
       "      <td>0.004746</td>\n",
       "      <td>0.002428</td>\n",
       "      <td>0.000779</td>\n",
       "      <td>0.001767</td>\n",
       "      <td>-0.006861</td>\n",
       "      <td>0.003641</td>\n",
       "      <td>0.006300</td>\n",
       "      <td>0.008502</td>\n",
       "    </tr>\n",
       "    <tr>\n",
       "      <th>2</th>\n",
       "      <td>0.085299</td>\n",
       "      <td>0.050680</td>\n",
       "      <td>0.044451</td>\n",
       "      <td>-0.005670</td>\n",
       "      <td>-0.045599</td>\n",
       "      <td>-0.034194</td>\n",
       "      <td>-0.032356</td>\n",
       "      <td>-0.002592</td>\n",
       "      <td>0.002861</td>\n",
       "      <td>-0.025930</td>\n",
       "      <td>...</td>\n",
       "      <td>-0.002212</td>\n",
       "      <td>-0.001314</td>\n",
       "      <td>-0.001153</td>\n",
       "      <td>0.000147</td>\n",
       "      <td>0.001182</td>\n",
       "      <td>0.000887</td>\n",
       "      <td>0.000839</td>\n",
       "      <td>0.000067</td>\n",
       "      <td>-0.000074</td>\n",
       "      <td>0.000672</td>\n",
       "    </tr>\n",
       "    <tr>\n",
       "      <th>3</th>\n",
       "      <td>-0.089063</td>\n",
       "      <td>-0.044642</td>\n",
       "      <td>-0.011595</td>\n",
       "      <td>-0.036656</td>\n",
       "      <td>0.012191</td>\n",
       "      <td>0.024991</td>\n",
       "      <td>-0.036038</td>\n",
       "      <td>0.034309</td>\n",
       "      <td>0.022688</td>\n",
       "      <td>-0.009362</td>\n",
       "      <td>...</td>\n",
       "      <td>0.000834</td>\n",
       "      <td>0.000418</td>\n",
       "      <td>0.000109</td>\n",
       "      <td>0.000343</td>\n",
       "      <td>-0.000114</td>\n",
       "      <td>-0.000234</td>\n",
       "      <td>0.000337</td>\n",
       "      <td>-0.000321</td>\n",
       "      <td>-0.000212</td>\n",
       "      <td>0.000088</td>\n",
       "    </tr>\n",
       "    <tr>\n",
       "      <th>4</th>\n",
       "      <td>0.005383</td>\n",
       "      <td>-0.044642</td>\n",
       "      <td>-0.036385</td>\n",
       "      <td>0.021872</td>\n",
       "      <td>0.003935</td>\n",
       "      <td>0.015596</td>\n",
       "      <td>0.008142</td>\n",
       "      <td>-0.002592</td>\n",
       "      <td>-0.031988</td>\n",
       "      <td>-0.046641</td>\n",
       "      <td>...</td>\n",
       "      <td>-0.000251</td>\n",
       "      <td>0.002082</td>\n",
       "      <td>0.001697</td>\n",
       "      <td>-0.001020</td>\n",
       "      <td>-0.000184</td>\n",
       "      <td>-0.000727</td>\n",
       "      <td>-0.000380</td>\n",
       "      <td>0.000121</td>\n",
       "      <td>0.001492</td>\n",
       "      <td>0.002175</td>\n",
       "    </tr>\n",
       "    <tr>\n",
       "      <th>...</th>\n",
       "      <td>...</td>\n",
       "      <td>...</td>\n",
       "      <td>...</td>\n",
       "      <td>...</td>\n",
       "      <td>...</td>\n",
       "      <td>...</td>\n",
       "      <td>...</td>\n",
       "      <td>...</td>\n",
       "      <td>...</td>\n",
       "      <td>...</td>\n",
       "      <td>...</td>\n",
       "      <td>...</td>\n",
       "      <td>...</td>\n",
       "      <td>...</td>\n",
       "      <td>...</td>\n",
       "      <td>...</td>\n",
       "      <td>...</td>\n",
       "      <td>...</td>\n",
       "      <td>...</td>\n",
       "      <td>...</td>\n",
       "      <td>...</td>\n",
       "    </tr>\n",
       "    <tr>\n",
       "      <th>437</th>\n",
       "      <td>0.041708</td>\n",
       "      <td>0.050680</td>\n",
       "      <td>0.019662</td>\n",
       "      <td>0.059744</td>\n",
       "      <td>-0.005697</td>\n",
       "      <td>-0.002566</td>\n",
       "      <td>-0.028674</td>\n",
       "      <td>-0.002592</td>\n",
       "      <td>0.031193</td>\n",
       "      <td>0.007207</td>\n",
       "      <td>...</td>\n",
       "      <td>0.000301</td>\n",
       "      <td>0.000365</td>\n",
       "      <td>0.000142</td>\n",
       "      <td>0.000431</td>\n",
       "      <td>-0.000041</td>\n",
       "      <td>-0.000018</td>\n",
       "      <td>-0.000207</td>\n",
       "      <td>-0.000019</td>\n",
       "      <td>0.000225</td>\n",
       "      <td>0.000052</td>\n",
       "    </tr>\n",
       "    <tr>\n",
       "      <th>438</th>\n",
       "      <td>-0.005515</td>\n",
       "      <td>0.050680</td>\n",
       "      <td>-0.015906</td>\n",
       "      <td>-0.067642</td>\n",
       "      <td>0.049341</td>\n",
       "      <td>0.079165</td>\n",
       "      <td>-0.028674</td>\n",
       "      <td>0.034309</td>\n",
       "      <td>-0.018114</td>\n",
       "      <td>0.044485</td>\n",
       "      <td>...</td>\n",
       "      <td>-0.000245</td>\n",
       "      <td>0.002255</td>\n",
       "      <td>-0.000708</td>\n",
       "      <td>-0.003009</td>\n",
       "      <td>0.002195</td>\n",
       "      <td>0.003522</td>\n",
       "      <td>-0.001276</td>\n",
       "      <td>0.001526</td>\n",
       "      <td>-0.000806</td>\n",
       "      <td>0.001979</td>\n",
       "    </tr>\n",
       "    <tr>\n",
       "      <th>439</th>\n",
       "      <td>0.041708</td>\n",
       "      <td>0.050680</td>\n",
       "      <td>-0.015906</td>\n",
       "      <td>0.017293</td>\n",
       "      <td>-0.037344</td>\n",
       "      <td>-0.013840</td>\n",
       "      <td>-0.024993</td>\n",
       "      <td>-0.011080</td>\n",
       "      <td>-0.046883</td>\n",
       "      <td>0.015491</td>\n",
       "      <td>...</td>\n",
       "      <td>0.000646</td>\n",
       "      <td>0.000785</td>\n",
       "      <td>-0.000246</td>\n",
       "      <td>0.000268</td>\n",
       "      <td>-0.000578</td>\n",
       "      <td>-0.000214</td>\n",
       "      <td>-0.000387</td>\n",
       "      <td>-0.000172</td>\n",
       "      <td>-0.000726</td>\n",
       "      <td>0.000240</td>\n",
       "    </tr>\n",
       "    <tr>\n",
       "      <th>440</th>\n",
       "      <td>-0.045472</td>\n",
       "      <td>-0.044642</td>\n",
       "      <td>0.039062</td>\n",
       "      <td>0.001215</td>\n",
       "      <td>0.016318</td>\n",
       "      <td>0.015283</td>\n",
       "      <td>-0.028674</td>\n",
       "      <td>0.026560</td>\n",
       "      <td>0.044529</td>\n",
       "      <td>-0.025930</td>\n",
       "      <td>...</td>\n",
       "      <td>0.001179</td>\n",
       "      <td>0.001158</td>\n",
       "      <td>-0.001013</td>\n",
       "      <td>-0.000032</td>\n",
       "      <td>-0.000423</td>\n",
       "      <td>-0.000396</td>\n",
       "      <td>0.000744</td>\n",
       "      <td>-0.000689</td>\n",
       "      <td>-0.001155</td>\n",
       "      <td>0.000672</td>\n",
       "    </tr>\n",
       "    <tr>\n",
       "      <th>441</th>\n",
       "      <td>-0.045472</td>\n",
       "      <td>-0.044642</td>\n",
       "      <td>-0.073030</td>\n",
       "      <td>-0.081413</td>\n",
       "      <td>0.083740</td>\n",
       "      <td>0.027809</td>\n",
       "      <td>0.173816</td>\n",
       "      <td>-0.039493</td>\n",
       "      <td>-0.004222</td>\n",
       "      <td>0.003064</td>\n",
       "      <td>...</td>\n",
       "      <td>-0.000139</td>\n",
       "      <td>-0.000137</td>\n",
       "      <td>-0.000224</td>\n",
       "      <td>-0.000249</td>\n",
       "      <td>0.000257</td>\n",
       "      <td>0.000085</td>\n",
       "      <td>0.000533</td>\n",
       "      <td>-0.000121</td>\n",
       "      <td>-0.000013</td>\n",
       "      <td>0.000009</td>\n",
       "    </tr>\n",
       "  </tbody>\n",
       "</table>\n",
       "<p>442 rows × 110 columns</p>\n",
       "</div>"
      ],
      "text/plain": [
       "          age       sex       bmi        bp        s1        s2        s3  \\\n",
       "0    0.038076  0.050680  0.061696  0.021872 -0.044223 -0.034821 -0.043401   \n",
       "1   -0.001882 -0.044642 -0.051474 -0.026328 -0.008449 -0.019163  0.074412   \n",
       "2    0.085299  0.050680  0.044451 -0.005670 -0.045599 -0.034194 -0.032356   \n",
       "3   -0.089063 -0.044642 -0.011595 -0.036656  0.012191  0.024991 -0.036038   \n",
       "4    0.005383 -0.044642 -0.036385  0.021872  0.003935  0.015596  0.008142   \n",
       "..        ...       ...       ...       ...       ...       ...       ...   \n",
       "437  0.041708  0.050680  0.019662  0.059744 -0.005697 -0.002566 -0.028674   \n",
       "438 -0.005515  0.050680 -0.015906 -0.067642  0.049341  0.079165 -0.028674   \n",
       "439  0.041708  0.050680 -0.015906  0.017293 -0.037344 -0.013840 -0.024993   \n",
       "440 -0.045472 -0.044642  0.039062  0.001215  0.016318  0.015283 -0.028674   \n",
       "441 -0.045472 -0.044642 -0.073030 -0.081413  0.083740  0.027809  0.173816   \n",
       "\n",
       "           s4        s5        s6  ...  s6_x_age  s6_x_sex  s6_x_bmi  \\\n",
       "0   -0.002592  0.019907 -0.017646  ... -0.000672 -0.000894 -0.001089   \n",
       "1   -0.039493 -0.068332 -0.092204  ...  0.000174  0.004116  0.004746   \n",
       "2   -0.002592  0.002861 -0.025930  ... -0.002212 -0.001314 -0.001153   \n",
       "3    0.034309  0.022688 -0.009362  ...  0.000834  0.000418  0.000109   \n",
       "4   -0.002592 -0.031988 -0.046641  ... -0.000251  0.002082  0.001697   \n",
       "..        ...       ...       ...  ...       ...       ...       ...   \n",
       "437 -0.002592  0.031193  0.007207  ...  0.000301  0.000365  0.000142   \n",
       "438  0.034309 -0.018114  0.044485  ... -0.000245  0.002255 -0.000708   \n",
       "439 -0.011080 -0.046883  0.015491  ...  0.000646  0.000785 -0.000246   \n",
       "440  0.026560  0.044529 -0.025930  ...  0.001179  0.001158 -0.001013   \n",
       "441 -0.039493 -0.004222  0.003064  ... -0.000139 -0.000137 -0.000224   \n",
       "\n",
       "      s6_x_bp   s6_x_s1   s6_x_s2   s6_x_s3   s6_x_s4   s6_x_s5   s6_x_s6  \n",
       "0   -0.000386  0.000780  0.000614  0.000766  0.000046 -0.000351  0.000311  \n",
       "1    0.002428  0.000779  0.001767 -0.006861  0.003641  0.006300  0.008502  \n",
       "2    0.000147  0.001182  0.000887  0.000839  0.000067 -0.000074  0.000672  \n",
       "3    0.000343 -0.000114 -0.000234  0.000337 -0.000321 -0.000212  0.000088  \n",
       "4   -0.001020 -0.000184 -0.000727 -0.000380  0.000121  0.001492  0.002175  \n",
       "..        ...       ...       ...       ...       ...       ...       ...  \n",
       "437  0.000431 -0.000041 -0.000018 -0.000207 -0.000019  0.000225  0.000052  \n",
       "438 -0.003009  0.002195  0.003522 -0.001276  0.001526 -0.000806  0.001979  \n",
       "439  0.000268 -0.000578 -0.000214 -0.000387 -0.000172 -0.000726  0.000240  \n",
       "440 -0.000032 -0.000423 -0.000396  0.000744 -0.000689 -0.001155  0.000672  \n",
       "441 -0.000249  0.000257  0.000085  0.000533 -0.000121 -0.000013  0.000009  \n",
       "\n",
       "[442 rows x 110 columns]"
      ]
     },
     "execution_count": 96,
     "metadata": {},
     "output_type": "execute_result"
    }
   ],
   "source": [
    "import copy\n",
    "\n",
    "cols = copy.deepcopy(X.columns)\n",
    "print(cols)\n",
    "\n",
    "for col1 in cols:\n",
    "    for col2 in cols:\n",
    "        col_name = col1 + '_x_' + col2\n",
    "        if col_name not in X.columns:\n",
    "            X[col_name] = X[col1]*X[col2]\n",
    "X"
   ]
  },
  {
   "cell_type": "markdown",
   "id": "9e5b9d73",
   "metadata": {
    "id": "9e5b9d73"
   },
   "source": [
    "# Переобучение и регуляризация"
   ]
  },
  {
   "cell_type": "markdown",
   "id": "31079bbe",
   "metadata": {
    "id": "31079bbe"
   },
   "source": [
    "Переобучение - ситуация, когда модель хорошо выучила обучающую выборку, но при этом показывает гораздо более низкое качество точности на тестовых данных. Это можно интерпретровать как модель стала слишком специфичной и потеряла обобщающую способность\n",
    "\n",
    "В случае линеной регрессии, одним из симптомов переобучения являются высокие значения весов. С этим борются регуляризацией.\n",
    "\n",
    "Регуляризация Lasso или L1-регуляризация:\n",
    "\n",
    "$Q_{lasso}(w) = Q(w) + \\alpha \\Sigma_{j=0}^{k}|w_{k}|$\n",
    "\n",
    "Регуляризация Ridge или L2-регуляризация:\n",
    "\n",
    "$Q_{ridge}(w) = Q(w) + \\alpha \\Sigma_{j=0}^{k}w_{k}^{2}$\n",
    "\n",
    "\n",
    "Как было рассказано в лекции, несмотря на то, что оба вида регуляризации ведут к занижению значений весов, отличие регуляризации Lasso заключается в том, что она может привести часть весов к 0 (что эквивалетно безинформативности  соответствующего признака), в случае Ridge регрессии веса могут быть сколько угодно близки к 0, но никогда не равны.\n",
    "\n",
    "Объяснение в лекции :)\n"
   ]
  },
  {
   "cell_type": "code",
   "execution_count": 99,
   "id": "ba3352a3",
   "metadata": {
    "ExecuteTime": {
     "end_time": "2021-09-20T20:03:55.004798Z",
     "start_time": "2021-09-20T20:03:54.997613Z"
    },
    "id": "ba3352a3"
   },
   "outputs": [],
   "source": [
    "X_train, X_test, y_train, y_test = train_test_split(X, y)"
   ]
  },
  {
   "cell_type": "code",
   "execution_count": 100,
   "id": "L-K2ex-jb88b",
   "metadata": {
    "id": "L-K2ex-jb88b",
    "outputId": "a388e7f3-f899-45aa-cd92-4f0f2bb4dfa1"
   },
   "outputs": [
    {
     "data": {
      "text/plain": [
       "2584.758221042186"
      ]
     },
     "execution_count": 100,
     "metadata": {},
     "output_type": "execute_result"
    }
   ],
   "source": [
    "lr_mse.fit(X_train, y_train)\n",
    "\n",
    "pred = lr_mse.predict(X_test)\n",
    "\n",
    "mean_squared_error(y_test, pred)"
   ]
  },
  {
   "cell_type": "code",
   "execution_count": 101,
   "id": "e6636439",
   "metadata": {
    "ExecuteTime": {
     "end_time": "2021-09-20T20:03:55.074878Z",
     "start_time": "2021-09-20T20:03:55.006328Z"
    },
    "id": "e6636439",
    "outputId": "3c21f883-f73d-41bb-cf39-72e43480f202"
   },
   "outputs": [
    {
     "name": "stdout",
     "output_type": "stream",
     "text": [
      "alpha=1e-08\n",
      "Train MSE: 2521.3973735764434\n",
      "Test MSE: 2729.978565378415\n",
      "[-1.21715421e+01  6.51306371e+01  4.67150955e+02  3.61681785e+02\n",
      " -2.06695791e+02  1.25896613e+02 -2.96379411e+02 -6.33923086e+01\n",
      "  6.24490685e+02  2.47469677e+01  1.99213785e+03  4.13313379e+03\n",
      "  2.42423002e+02  7.32103428e+02 -6.94206463e+03  1.10683164e+03\n",
      "  6.75752975e+03  5.01996933e+03  9.93372163e+02  1.16087012e+03\n",
      "  6.71075448e+00 -4.80829318e+04  2.71436520e+03  9.09282316e+02\n",
      "  1.98012454e+03 -2.94700745e+03  3.65803961e+02 -1.10966272e+03\n",
      "  4.95855006e+02 -1.63544315e+02 -1.84983467e+02  3.47406749e+02\n",
      "  1.24402240e+03  1.57498872e+03 -9.01953977e+03  2.49350624e+03\n",
      "  3.55907860e+03 -1.24775879e+03  1.55113460e+03  1.78991865e+03\n",
      " -1.89825726e+02 -3.92887435e+02  7.15111313e+02  1.08000165e+03\n",
      "  7.84510581e+03 -8.31304050e+03 -2.86847480e+03 -9.49163293e+02\n",
      " -6.35771977e+03 -1.15068167e+03 -4.28798092e+03  5.60053480e+03\n",
      " -3.10556919e+03  1.26776422e+04  4.39545964e+02 -7.50844517e+03\n",
      " -8.37629973e+03  3.76213777e+03 -1.20829740e+04 -5.04362304e+03\n",
      "  2.10669956e+03 -3.31969051e+03  6.66530739e+03 -7.07107693e+03\n",
      "  8.60834945e+02  8.94073034e+03  7.12729876e+03 -8.62455379e+03\n",
      "  1.50907038e+04  6.91842629e+02  3.65646921e+03 -3.88160396e+03\n",
      " -1.42178243e+03 -4.50204554e+03 -4.90203944e+03  2.53634077e+03\n",
      "  3.17532463e+03  4.12101858e+03  6.57479800e+03  4.22822322e+03\n",
      "  2.98086639e+03 -2.11603829e+03 -2.20472239e+03  1.21792138e+03\n",
      "  1.98359833e+03 -5.99459457e+03 -7.80397317e+03  5.24132162e+03\n",
      " -1.01160935e+04  3.53700800e+03  1.48306806e+03 -2.38797173e+03\n",
      "  1.72300479e+03 -3.08209589e+03 -6.82674653e+03  9.83271463e+03\n",
      " -2.12004594e+02 -3.05193649e+03  8.83314405e+03  2.15870672e+03\n",
      " -2.71879862e+02  2.99797288e+02 -1.46576867e+03 -1.91425408e+03\n",
      " -8.87815360e+03  7.43369400e+03  6.89699254e+03  2.72839978e+03\n",
      "  4.96698181e+03  2.65218717e+03] \n",
      "\n",
      "alpha=0.25\n",
      "Train MSE: 3182.034399117757\n",
      "Test MSE: 2667.38095723339\n",
      "[  -0.          -29.70596115  503.79654227  237.22444312   -0.\n",
      "   -0.         -200.83511119    0.          374.26792452    0.\n",
      "    0.            0.            0.            0.            0.\n",
      "   -0.           -0.            0.            0.            0.\n",
      "    0.           -0.            0.            0.            0.\n",
      "   -0.            0.            0.            0.            0.\n",
      "    0.            0.            0.            0.           -0.\n",
      "   -0.           -0.            0.            0.            0.\n",
      "    0.            0.            0.            0.            0.\n",
      "    0.           -0.            0.            0.            0.\n",
      "    0.            0.           -0.            0.           -0.\n",
      "   -0.           -0.           -0.           -0.            0.\n",
      "   -0.           -0.           -0.            0.           -0.\n",
      "   -0.           -0.           -0.            0.            0.\n",
      "   -0.            0.           -0.           -0.           -0.\n",
      "   -0.           -0.           -0.           -0.           -0.\n",
      "    0.            0.            0.            0.           -0.\n",
      "   -0.           -0.            0.            0.            0.\n",
      "    0.            0.            0.            0.           -0.\n",
      "    0.           -0.            0.            0.            0.\n",
      "    0.            0.            0.            0.            0.\n",
      "    0.           -0.            0.            0.            0.        ] \n",
      "\n",
      "alpha=0.5\n",
      "Train MSE: 3364.812477844486\n",
      "Test MSE: 2830.802289726465\n",
      "[   0.           -0.          468.78164084  167.48346228   -0.\n",
      "   -0.         -122.28935826    0.          331.82961015    0.\n",
      "    0.            0.            0.            0.           -0.\n",
      "   -0.           -0.            0.            0.            0.\n",
      "    0.           -0.            0.            0.            0.\n",
      "   -0.            0.            0.            0.            0.\n",
      "    0.            0.            0.            0.           -0.\n",
      "   -0.           -0.            0.            0.            0.\n",
      "    0.            0.            0.            0.            0.\n",
      "    0.           -0.            0.            0.            0.\n",
      "   -0.            0.           -0.            0.           -0.\n",
      "   -0.           -0.           -0.           -0.            0.\n",
      "   -0.           -0.           -0.            0.           -0.\n",
      "   -0.            0.           -0.           -0.            0.\n",
      "   -0.            0.           -0.           -0.           -0.\n",
      "    0.           -0.           -0.           -0.           -0.\n",
      "    0.            0.            0.            0.           -0.\n",
      "   -0.           -0.            0.            0.            0.\n",
      "    0.            0.            0.            0.           -0.\n",
      "   -0.           -0.            0.            0.            0.\n",
      "    0.            0.            0.            0.            0.\n",
      "    0.           -0.            0.            0.            0.        ] \n",
      "\n",
      "alpha=0.75\n",
      "Train MSE: 3631.898181411539\n",
      "Test MSE: 3075.5967019799073\n",
      "[  0.          -0.         429.0772336  104.92320401   0.\n",
      "   0.         -55.56414805   0.         287.15306112   0.\n",
      "   0.           0.           0.           0.          -0.\n",
      "  -0.          -0.           0.           0.           0.\n",
      "   0.          -0.           0.           0.           0.\n",
      "  -0.           0.          -0.           0.           0.\n",
      "   0.           0.           0.           0.          -0.\n",
      "  -0.          -0.           0.           0.           0.\n",
      "   0.           0.           0.           0.           0.\n",
      "   0.           0.           0.           0.           0.\n",
      "  -0.           0.          -0.           0.          -0.\n",
      "  -0.          -0.           0.          -0.           0.\n",
      "  -0.          -0.          -0.           0.          -0.\n",
      "  -0.           0.          -0.          -0.           0.\n",
      "  -0.           0.          -0.           0.          -0.\n",
      "   0.          -0.          -0.           0.          -0.\n",
      "   0.          -0.           0.           0.           0.\n",
      "  -0.          -0.           0.           0.           0.\n",
      "   0.           0.           0.           0.          -0.\n",
      "  -0.           0.           0.           0.           0.\n",
      "   0.           0.           0.           0.           0.\n",
      "   0.          -0.           0.           0.           0.        ] \n",
      "\n",
      "alpha=1.0\n",
      "Train MSE: 3995.6800652963034\n",
      "Test MSE: 3426.000393798342\n",
      "[  0.          -0.         386.52631102  42.41187321   0.\n",
      "   0.          -0.           0.         239.28855903   0.\n",
      "   0.           0.           0.           0.          -0.\n",
      "  -0.          -0.           0.           0.           0.\n",
      "   0.          -0.           0.           0.           0.\n",
      "  -0.           0.          -0.           0.           0.\n",
      "   0.           0.           0.           0.          -0.\n",
      "  -0.          -0.           0.           0.           0.\n",
      "   0.           0.           0.           0.           0.\n",
      "  -0.           0.           0.           0.           0.\n",
      "  -0.           0.          -0.           0.          -0.\n",
      "  -0.          -0.           0.           0.           0.\n",
      "  -0.          -0.          -0.          -0.          -0.\n",
      "  -0.           0.          -0.          -0.           0.\n",
      "  -0.           0.          -0.           0.          -0.\n",
      "   0.          -0.          -0.           0.          -0.\n",
      "   0.          -0.           0.           0.           0.\n",
      "  -0.          -0.           0.           0.           0.\n",
      "   0.           0.           0.           0.           0.\n",
      "  -0.           0.           0.           0.           0.\n",
      "   0.           0.           0.           0.           0.\n",
      "   0.          -0.           0.           0.           0.        ] \n",
      "\n"
     ]
    }
   ],
   "source": [
    "# альфа - это гиперпараметр, посмотрим как зависят значения весов от него\n",
    "\n",
    "from sklearn.linear_model import Lasso\n",
    "\n",
    "for a in np.arange(0, 1.1, 0.25):\n",
    "    if a == 0:\n",
    "        a += 0.00000001\n",
    "    lasso = Lasso(alpha=a)\n",
    "    lasso.fit(X_train, y_train)\n",
    "\n",
    "    y_pred_tr = lasso.predict(X_train)\n",
    "    y_pred2 = lasso.predict(X_test)\n",
    "\n",
    "    print('alpha={}'.format(a))\n",
    "    print('Train MSE:', mean_squared_error(y_train, y_pred_tr))\n",
    "    print('Test MSE:', mean_squared_error(y_test, y_pred2))\n",
    "    print(lasso.coef_,'\\n')"
   ]
  },
  {
   "cell_type": "code",
   "execution_count": 102,
   "id": "c022610b",
   "metadata": {},
   "outputs": [
    {
     "data": {
      "text/plain": [
       "Index(['age', 'sex', 'bmi', 'bp', 's1', 's2', 's3', 's4', 's5', 's6',\n",
       "       ...\n",
       "       's6_x_age', 's6_x_sex', 's6_x_bmi', 's6_x_bp', 's6_x_s1', 's6_x_s2',\n",
       "       's6_x_s3', 's6_x_s4', 's6_x_s5', 's6_x_s6'],\n",
       "      dtype='object', length=110)"
      ]
     },
     "execution_count": 102,
     "metadata": {},
     "output_type": "execute_result"
    }
   ],
   "source": [
    "X.columns"
   ]
  },
  {
   "cell_type": "code",
   "execution_count": 104,
   "id": "3e2c6394",
   "metadata": {},
   "outputs": [
    {
     "data": {
      "text/html": [
       "<style>#sk-container-id-1 {color: black;}#sk-container-id-1 pre{padding: 0;}#sk-container-id-1 div.sk-toggleable {background-color: white;}#sk-container-id-1 label.sk-toggleable__label {cursor: pointer;display: block;width: 100%;margin-bottom: 0;padding: 0.3em;box-sizing: border-box;text-align: center;}#sk-container-id-1 label.sk-toggleable__label-arrow:before {content: \"▸\";float: left;margin-right: 0.25em;color: #696969;}#sk-container-id-1 label.sk-toggleable__label-arrow:hover:before {color: black;}#sk-container-id-1 div.sk-estimator:hover label.sk-toggleable__label-arrow:before {color: black;}#sk-container-id-1 div.sk-toggleable__content {max-height: 0;max-width: 0;overflow: hidden;text-align: left;background-color: #f0f8ff;}#sk-container-id-1 div.sk-toggleable__content pre {margin: 0.2em;color: black;border-radius: 0.25em;background-color: #f0f8ff;}#sk-container-id-1 input.sk-toggleable__control:checked~div.sk-toggleable__content {max-height: 200px;max-width: 100%;overflow: auto;}#sk-container-id-1 input.sk-toggleable__control:checked~label.sk-toggleable__label-arrow:before {content: \"▾\";}#sk-container-id-1 div.sk-estimator input.sk-toggleable__control:checked~label.sk-toggleable__label {background-color: #d4ebff;}#sk-container-id-1 div.sk-label input.sk-toggleable__control:checked~label.sk-toggleable__label {background-color: #d4ebff;}#sk-container-id-1 input.sk-hidden--visually {border: 0;clip: rect(1px 1px 1px 1px);clip: rect(1px, 1px, 1px, 1px);height: 1px;margin: -1px;overflow: hidden;padding: 0;position: absolute;width: 1px;}#sk-container-id-1 div.sk-estimator {font-family: monospace;background-color: #f0f8ff;border: 1px dotted black;border-radius: 0.25em;box-sizing: border-box;margin-bottom: 0.5em;}#sk-container-id-1 div.sk-estimator:hover {background-color: #d4ebff;}#sk-container-id-1 div.sk-parallel-item::after {content: \"\";width: 100%;border-bottom: 1px solid gray;flex-grow: 1;}#sk-container-id-1 div.sk-label:hover label.sk-toggleable__label {background-color: #d4ebff;}#sk-container-id-1 div.sk-serial::before {content: \"\";position: absolute;border-left: 1px solid gray;box-sizing: border-box;top: 0;bottom: 0;left: 50%;z-index: 0;}#sk-container-id-1 div.sk-serial {display: flex;flex-direction: column;align-items: center;background-color: white;padding-right: 0.2em;padding-left: 0.2em;position: relative;}#sk-container-id-1 div.sk-item {position: relative;z-index: 1;}#sk-container-id-1 div.sk-parallel {display: flex;align-items: stretch;justify-content: center;background-color: white;position: relative;}#sk-container-id-1 div.sk-item::before, #sk-container-id-1 div.sk-parallel-item::before {content: \"\";position: absolute;border-left: 1px solid gray;box-sizing: border-box;top: 0;bottom: 0;left: 50%;z-index: -1;}#sk-container-id-1 div.sk-parallel-item {display: flex;flex-direction: column;z-index: 1;position: relative;background-color: white;}#sk-container-id-1 div.sk-parallel-item:first-child::after {align-self: flex-end;width: 50%;}#sk-container-id-1 div.sk-parallel-item:last-child::after {align-self: flex-start;width: 50%;}#sk-container-id-1 div.sk-parallel-item:only-child::after {width: 0;}#sk-container-id-1 div.sk-dashed-wrapped {border: 1px dashed gray;margin: 0 0.4em 0.5em 0.4em;box-sizing: border-box;padding-bottom: 0.4em;background-color: white;}#sk-container-id-1 div.sk-label label {font-family: monospace;font-weight: bold;display: inline-block;line-height: 1.2em;}#sk-container-id-1 div.sk-label-container {text-align: center;}#sk-container-id-1 div.sk-container {/* jupyter's `normalize.less` sets `[hidden] { display: none; }` but bootstrap.min.css set `[hidden] { display: none !important; }` so we also need the `!important` here to be able to override the default hidden behavior on the sphinx rendered scikit-learn.org. See: https://github.com/scikit-learn/scikit-learn/issues/21755 */display: inline-block !important;position: relative;}#sk-container-id-1 div.sk-text-repr-fallback {display: none;}</style><div id=\"sk-container-id-1\" class=\"sk-top-container\"><div class=\"sk-text-repr-fallback\"><pre>Lasso()</pre><b>In a Jupyter environment, please rerun this cell to show the HTML representation or trust the notebook. <br />On GitHub, the HTML representation is unable to render, please try loading this page with nbviewer.org.</b></div><div class=\"sk-container\" hidden><div class=\"sk-item\"><div class=\"sk-estimator sk-toggleable\"><input class=\"sk-toggleable__control sk-hidden--visually\" id=\"sk-estimator-id-1\" type=\"checkbox\" checked><label for=\"sk-estimator-id-1\" class=\"sk-toggleable__label sk-toggleable__label-arrow\">Lasso</label><div class=\"sk-toggleable__content\"><pre>Lasso()</pre></div></div></div></div></div>"
      ],
      "text/plain": [
       "Lasso()"
      ]
     },
     "execution_count": 104,
     "metadata": {},
     "output_type": "execute_result"
    }
   ],
   "source": [
    "lasso"
   ]
  },
  {
   "cell_type": "code",
   "execution_count": 105,
   "id": "0c0ba58a",
   "metadata": {},
   "outputs": [
    {
     "data": {
      "text/html": [
       "<div>\n",
       "<style scoped>\n",
       "    .dataframe tbody tr th:only-of-type {\n",
       "        vertical-align: middle;\n",
       "    }\n",
       "\n",
       "    .dataframe tbody tr th {\n",
       "        vertical-align: top;\n",
       "    }\n",
       "\n",
       "    .dataframe thead th {\n",
       "        text-align: right;\n",
       "    }\n",
       "</style>\n",
       "<table border=\"1\" class=\"dataframe\">\n",
       "  <thead>\n",
       "    <tr style=\"text-align: right;\">\n",
       "      <th></th>\n",
       "      <th>0</th>\n",
       "      <th>1</th>\n",
       "    </tr>\n",
       "  </thead>\n",
       "  <tbody>\n",
       "    <tr>\n",
       "      <th>0</th>\n",
       "      <td>age</td>\n",
       "      <td>0.000000</td>\n",
       "    </tr>\n",
       "    <tr>\n",
       "      <th>1</th>\n",
       "      <td>sex</td>\n",
       "      <td>-0.000000</td>\n",
       "    </tr>\n",
       "    <tr>\n",
       "      <th>2</th>\n",
       "      <td>bmi</td>\n",
       "      <td>386.526311</td>\n",
       "    </tr>\n",
       "    <tr>\n",
       "      <th>3</th>\n",
       "      <td>bp</td>\n",
       "      <td>42.411873</td>\n",
       "    </tr>\n",
       "    <tr>\n",
       "      <th>4</th>\n",
       "      <td>s1</td>\n",
       "      <td>0.000000</td>\n",
       "    </tr>\n",
       "    <tr>\n",
       "      <th>...</th>\n",
       "      <td>...</td>\n",
       "      <td>...</td>\n",
       "    </tr>\n",
       "    <tr>\n",
       "      <th>105</th>\n",
       "      <td>s6_x_s2</td>\n",
       "      <td>0.000000</td>\n",
       "    </tr>\n",
       "    <tr>\n",
       "      <th>106</th>\n",
       "      <td>s6_x_s3</td>\n",
       "      <td>-0.000000</td>\n",
       "    </tr>\n",
       "    <tr>\n",
       "      <th>107</th>\n",
       "      <td>s6_x_s4</td>\n",
       "      <td>0.000000</td>\n",
       "    </tr>\n",
       "    <tr>\n",
       "      <th>108</th>\n",
       "      <td>s6_x_s5</td>\n",
       "      <td>0.000000</td>\n",
       "    </tr>\n",
       "    <tr>\n",
       "      <th>109</th>\n",
       "      <td>s6_x_s6</td>\n",
       "      <td>0.000000</td>\n",
       "    </tr>\n",
       "  </tbody>\n",
       "</table>\n",
       "<p>110 rows × 2 columns</p>\n",
       "</div>"
      ],
      "text/plain": [
       "           0           1\n",
       "0        age    0.000000\n",
       "1        sex   -0.000000\n",
       "2        bmi  386.526311\n",
       "3         bp   42.411873\n",
       "4         s1    0.000000\n",
       "..       ...         ...\n",
       "105  s6_x_s2    0.000000\n",
       "106  s6_x_s3   -0.000000\n",
       "107  s6_x_s4    0.000000\n",
       "108  s6_x_s5    0.000000\n",
       "109  s6_x_s6    0.000000\n",
       "\n",
       "[110 rows x 2 columns]"
      ]
     },
     "execution_count": 105,
     "metadata": {},
     "output_type": "execute_result"
    }
   ],
   "source": [
    "pd.DataFrame(zip(X.columns, lasso.coef_))"
   ]
  },
  {
   "cell_type": "code",
   "execution_count": 106,
   "id": "c171dd89",
   "metadata": {
    "ExecuteTime": {
     "end_time": "2021-09-20T20:03:55.133640Z",
     "start_time": "2021-09-20T20:03:55.076921Z"
    },
    "id": "c171dd89",
    "outputId": "cefe6126-5a55-4c24-8d1c-0275e80e813f"
   },
   "outputs": [
    {
     "name": "stdout",
     "output_type": "stream",
     "text": [
      "alpha=1e-08\n",
      "Train MSE: 2478.659561191678\n",
      "Test MSE: 2911.387880433009\n",
      "[ 8.14134175e+00 -2.39792722e+02  4.86367034e+02  3.72575049e+02\n",
      "  6.44153911e+03 -5.66033862e+03 -2.83174569e+03 -1.70721439e+02\n",
      " -1.51829364e+03  1.26303735e+01  2.11768708e+03  1.61439439e+03\n",
      " -2.71582486e+02  3.54320329e+02 -3.32013088e+03 -2.03143004e+02\n",
      "  4.09669121e+03  4.08520255e+03  6.67819212e+02  3.08808306e+02\n",
      "  1.61439439e+03 -1.44798344e+00  1.45904865e+03  2.09263765e+02\n",
      "  5.21405338e+03 -4.04634879e+03 -2.78475574e+03 -2.66655117e+03\n",
      " -8.55097219e+02  5.36850737e+01 -2.71582484e+02  1.45904865e+03\n",
      "  1.05887228e+03  1.16287792e+03  8.03277925e+02 -1.38030883e+03\n",
      " -1.32833949e+03 -1.50128899e+03 -2.83069251e+02  1.53617718e+02\n",
      "  3.54320327e+02  2.09263764e+02  1.16287792e+03  1.02881415e+03\n",
      "  1.04253738e+04 -7.78812004e+03 -3.74315541e+03  1.70712290e+02\n",
      " -4.80970747e+03 -1.46841782e+03 -3.32013088e+03  5.21405338e+03\n",
      "  8.03277928e+02  1.04253738e+04  1.75310333e+05 -1.40014128e+05\n",
      " -8.06455653e+04 -1.99350970e+04 -9.14124427e+04 -4.44094756e+03\n",
      " -2.03143007e+02 -4.04634878e+03 -1.38030881e+03 -7.78812005e+03\n",
      " -1.40014128e+05  1.13990172e+05  6.38471887e+04  1.30895309e+04\n",
      "  7.78583491e+04  2.07784247e+03  4.09669121e+03 -2.78475573e+03\n",
      " -1.32833949e+03 -3.74315541e+03 -8.06455653e+04  6.38471886e+04\n",
      "  3.35369164e+04  5.84067696e+03  3.73455994e+04  4.53379707e+03\n",
      "  4.08520254e+03 -2.66655117e+03 -1.50128899e+03  1.70712289e+02\n",
      " -1.99350970e+04  1.30895309e+04  5.84067696e+03  4.56395392e+03\n",
      "  2.39845350e+03  2.93864580e+03  6.67819212e+02 -8.55097219e+02\n",
      " -2.83069249e+02 -4.80970747e+03 -9.14124427e+04  7.78583491e+04\n",
      "  3.73455994e+04  2.39845351e+03  2.97850064e+04  2.80788437e+03\n",
      "  3.08808308e+02  5.36850744e+01  1.53617721e+02 -1.46841782e+03\n",
      " -4.44094757e+03  2.07784247e+03  4.53379707e+03  2.93864582e+03\n",
      "  2.80788437e+03  2.71340222e+03] \n",
      "\n",
      "alpha=0.25\n",
      "Train MSE: 3078.535314951465\n",
      "Test MSE: 2635.4118474249435\n",
      "[-1.08583475e+01 -1.46186126e+02  4.17275029e+02  2.81178015e+02\n",
      " -4.60896980e+01 -7.15688250e+01 -2.08563020e+02  1.34280948e+02\n",
      "  3.26884755e+02  1.06325641e+02  1.67257352e+01  2.57194473e+01\n",
      "  6.01984036e+00  1.59356102e+01 -4.80926901e-01 -3.56154342e+00\n",
      " -3.51461277e+00  7.14694278e+00  1.04486075e+01  1.76868297e+01\n",
      "  2.57194473e+01 -8.82742323e-01  1.96126794e+01  1.59697756e+01\n",
      "  8.26586620e+00  8.03984646e-01  4.79273461e+00  1.35883809e+00\n",
      "  1.43231538e+01  1.11737815e+01  6.01984036e+00  1.96126794e+01\n",
      "  3.08207179e+01  2.43496254e+01 -7.40795968e+00 -6.70567036e+00\n",
      " -1.09142863e+01  7.57966218e+00  8.94938991e+00  2.12478239e+01\n",
      "  1.59356102e+01  1.59697756e+01  2.43496254e+01  2.16278497e+01\n",
      "  6.28413216e+00  4.28444283e+00 -3.05845580e+00  6.11725785e+00\n",
      "  1.06206592e+01  1.61388636e+01 -4.80926901e-01  8.26586620e+00\n",
      " -7.40795968e+00  6.28413216e+00 -5.66539833e+00 -5.69420477e+00\n",
      " -4.88918834e-02 -6.99986618e+00 -1.82634648e+00  7.95826306e+00\n",
      " -3.56154342e+00  8.03984646e-01 -6.70567036e+00  4.28444283e+00\n",
      " -5.69420477e+00 -8.31982733e+00  4.53021777e-01 -5.79130262e+00\n",
      "  1.10403762e+00  5.44479868e+00 -3.51461277e+00  4.79273461e+00\n",
      " -1.09142863e+01 -3.05845580e+00 -4.88918834e-02  4.53021777e-01\n",
      " -2.77638998e+00 -3.91869459e+00  1.06762749e+00 -9.42288162e+00\n",
      "  7.14694278e+00  1.35883809e+00  7.57966218e+00  6.11725785e+00\n",
      " -6.99986618e+00 -5.79130262e+00 -3.91869459e+00  3.82548511e+00\n",
      " -7.76747646e-01  1.63427627e+01  1.04486075e+01  1.43231538e+01\n",
      "  8.94938991e+00  1.06206592e+01 -1.82634648e+00  1.10403762e+00\n",
      "  1.06762749e+00 -7.76747646e-01 -2.82365123e+00  1.98949475e+01\n",
      "  1.76868297e+01  1.11737815e+01  2.12478239e+01  1.61388636e+01\n",
      "  7.95826306e+00  5.44479868e+00 -9.42288162e+00  1.63427627e+01\n",
      "  1.98949475e+01  3.92494141e+01] \n",
      "\n",
      "alpha=0.5\n",
      "Train MSE: 3226.289019113574\n",
      "Test MSE: 2783.3152286576683\n",
      "[ 1.36443488e+00 -1.05303203e+02  3.52162131e+02  2.40550027e+02\n",
      " -2.26106024e+01 -4.70393189e+01 -1.88089860e+02  1.29518963e+02\n",
      "  2.75582514e+02  1.10973525e+02  7.97089125e+00  1.25150562e+01\n",
      "  2.87823526e+00  8.69476344e+00 -1.35710732e+00 -3.31823932e+00\n",
      " -2.15280469e+00  3.35405829e+00  5.69548305e+00  9.30728161e+00\n",
      "  1.25150562e+01 -6.35871520e-01  9.30692030e+00  7.80796662e+00\n",
      "  3.98307358e+00  2.29942815e-02  3.26724487e+00  2.09196713e-01\n",
      "  6.93618096e+00  5.15014158e+00  2.87823526e+00  9.30692030e+00\n",
      "  2.02057794e+01  1.34564394e+01 -4.54386349e+00 -4.58445160e+00\n",
      " -6.15464502e+00  4.27921981e+00  5.49113987e+00  1.19313425e+01\n",
      "  8.69476344e+00  7.80796662e+00  1.34564394e+01  1.31742415e+01\n",
      "  3.16632138e+00  1.44870389e+00 -1.03671202e+00  2.97262373e+00\n",
      "  6.13240782e+00  8.96152395e+00 -1.35710732e+00  3.98307358e+00\n",
      " -4.54386349e+00  3.16632138e+00 -3.90229435e+00 -4.09507390e+00\n",
      " -6.31755897e-01 -3.37743403e+00 -1.17985373e+00  4.09702599e+00\n",
      " -3.31823932e+00  2.29942815e-02 -4.58445160e+00  1.44870389e+00\n",
      " -4.09507390e+00 -5.44633893e+00  1.10118576e+00 -3.73549395e+00\n",
      " -9.57845534e-01  2.27595169e+00 -2.15280469e+00  3.26724487e+00\n",
      " -6.15464502e+00 -1.03671202e+00 -6.31755897e-01  1.10118576e+00\n",
      " -4.11327822e+00 -1.31462518e+00  2.08185530e-01 -5.10411349e+00\n",
      "  3.35405829e+00  2.09196713e-01  4.27921981e+00  2.97262373e+00\n",
      " -3.37743403e+00 -3.73549395e+00 -1.31462518e+00  2.55297830e+00\n",
      "  2.29793472e-01  8.84186468e+00  5.69548305e+00  6.93618096e+00\n",
      "  5.49113987e+00  6.13240782e+00 -1.17985373e+00 -9.57845534e-01\n",
      "  2.08185530e-01  2.29793472e-01 -2.20421641e-01  1.11126812e+01\n",
      "  9.30728161e+00  5.15014158e+00  1.19313425e+01  8.96152395e+00\n",
      "  4.09702599e+00  2.27595169e+00 -5.10411349e+00  8.84186468e+00\n",
      "  1.11126812e+01  2.05394434e+01] \n",
      "\n",
      "alpha=0.75\n",
      "Train MSE: 3370.151582613335\n",
      "Test MSE: 2925.2266737075556\n",
      "[ 8.73460768e+00 -7.93439981e+01  3.06352528e+02  2.11771727e+02\n",
      " -9.28172961e+00 -2.96288007e+01 -1.70882264e+02  1.23702203e+02\n",
      "  2.41545838e+02  1.09333901e+02  5.04602297e+00  8.12173160e+00\n",
      "  1.72177646e+00  6.06231001e+00 -1.52245787e+00 -3.00508719e+00\n",
      " -1.61089810e+00  2.06848208e+00  3.90940611e+00  6.32433970e+00\n",
      "  8.12173160e+00 -4.79117323e-01  5.87595012e+00  5.04069120e+00\n",
      "  2.54808718e+00 -1.80613761e-01  2.63972100e+00 -1.33957980e-01\n",
      "  4.40977660e+00  3.13624085e+00  1.72177646e+00  5.87595012e+00\n",
      "  1.56515242e+01  9.44613731e+00 -3.43903752e+00 -3.66891029e+00\n",
      " -4.35133573e+00  3.04329000e+00  4.07811465e+00  8.47798634e+00\n",
      "  6.06231001e+00  5.04069120e+00  9.44613731e+00  9.83390407e+00\n",
      "  2.05243468e+00  5.51885068e-01 -3.64998081e-01  1.83829728e+00\n",
      "  4.37790355e+00  6.25867419e+00 -1.52245787e+00  2.54808718e+00\n",
      " -3.43903752e+00  2.05243468e+00 -2.97514555e+00 -3.16654214e+00\n",
      " -7.39556675e-01 -2.09182550e+00 -9.06834492e-01  2.77343372e+00\n",
      " -3.00508719e+00 -1.80613761e-01 -3.66891029e+00  5.51885068e-01\n",
      " -3.16654214e+00 -4.05396601e+00  1.14932984e+00 -2.77027789e+00\n",
      " -1.37594557e+00  1.29964339e+00 -1.61089810e+00  2.63972100e+00\n",
      " -4.35133573e+00 -3.64998081e-01 -7.39556675e-01  1.14932984e+00\n",
      " -4.16835362e+00 -5.75901584e-01  3.86918241e-02 -3.53862703e+00\n",
      "  2.06848208e+00 -1.33957980e-01  3.04329000e+00  1.83829728e+00\n",
      " -2.09182550e+00 -2.77027789e+00 -5.75901584e-01  2.14886887e+00\n",
      "  4.32352189e-01  6.19419480e+00  3.90940611e+00  4.40977660e+00\n",
      "  4.07811465e+00  4.37790355e+00 -9.06834492e-01 -1.37594557e+00\n",
      "  3.86918241e-02  4.32352189e-01  3.84124034e-01  7.87213867e+00\n",
      "  6.32433970e+00  3.13624085e+00  8.47798634e+00  6.25867419e+00\n",
      "  2.77343372e+00  1.29964339e+00 -3.53862703e+00  6.19419480e+00\n",
      "  7.87213867e+00  1.40393364e+01] \n",
      "\n",
      "alpha=1.0\n",
      "Train MSE: 3503.187058812019\n",
      "Test MSE: 3056.380964555022\n",
      "[ 1.32645814e+01 -6.17924902e+01  2.72074982e+02  1.90000286e+02\n",
      " -6.54506309e-01 -1.76081324e+01 -1.56638365e+02  1.17861317e+02\n",
      "  2.16452545e+02  1.05643675e+02  3.60267514e+00  5.94948836e+00\n",
      "  1.12756945e+00  4.67178827e+00 -1.52572525e+00 -2.72549498e+00\n",
      " -1.31062660e+00  1.43771180e+00  2.95385827e+00  4.77741606e+00\n",
      "  5.94948836e+00 -3.73132854e-01  4.19985381e+00  3.66638907e+00\n",
      "  1.84869273e+00 -2.39878247e-01  2.25657837e+00 -2.65023738e-01\n",
      "  3.15234428e+00  2.15995258e+00  1.12756945e+00  4.19985381e+00\n",
      "  1.29454328e+01  7.31318925e+00 -2.81114022e+00 -3.10557168e+00\n",
      " -3.37818597e+00  2.38544017e+00  3.27632406e+00  6.63466678e+00\n",
      "  4.67178827e+00  3.66638907e+00  7.31318925e+00  7.95662373e+00\n",
      "  1.48256649e+00  1.49460412e-01 -6.18762116e-02  1.26762673e+00\n",
      "  3.41674500e+00  4.81506035e+00 -1.52572525e+00  1.84869273e+00\n",
      " -2.81114022e+00  1.48256649e+00 -2.36668162e+00 -2.53631446e+00\n",
      " -7.54042502e-01 -1.41910625e+00 -7.36610029e-01  2.11167876e+00\n",
      " -2.72549498e+00 -2.39878247e-01 -3.10557168e+00  1.49460412e-01\n",
      " -2.53631446e+00 -3.17939079e+00  1.09217840e+00 -2.16920211e+00\n",
      " -1.45097302e+00  8.63986825e-01 -1.31062660e+00  2.25657837e+00\n",
      " -3.37818597e+00 -6.18762116e-02 -7.54042502e-01  1.09217840e+00\n",
      " -3.98934579e+00 -2.73926024e-01 -8.20371032e-03 -2.72743394e+00\n",
      "  1.43771180e+00 -2.65023738e-01  2.38544017e+00  1.26762673e+00\n",
      " -1.41910625e+00 -2.16920211e+00 -2.73926024e-01  1.94862776e+00\n",
      "  4.86144940e-01  4.83144423e+00  2.95385827e+00  3.15234428e+00\n",
      "  3.27632406e+00  3.41674500e+00 -7.36610029e-01 -1.45097302e+00\n",
      " -8.20371032e-03  4.86144940e-01  5.76275024e-01  6.14608387e+00\n",
      "  4.77741606e+00  2.15995258e+00  6.63466678e+00  4.81506035e+00\n",
      "  2.11167876e+00  8.63986825e-01 -2.72743394e+00  4.83144423e+00\n",
      "  6.14608387e+00  1.07198670e+01] \n",
      "\n"
     ]
    }
   ],
   "source": [
    "# альфа - это гиперпараметр, посмотрим как зависят значения весов от него\n",
    "\n",
    "from sklearn.linear_model import Ridge\n",
    "\n",
    "for a in np.arange(0, 1.1, 0.25):\n",
    "    if a == 0:\n",
    "        a += 0.00000001\n",
    "    ridge = Ridge(alpha=a)\n",
    "    ridge.fit(X_train, y_train)\n",
    "\n",
    "    y_pred_tr = ridge.predict(X_train)\n",
    "    y_pred2 = ridge.predict(X_test)\n",
    "\n",
    "    print('alpha={}'.format(a))\n",
    "    print('Train MSE:', mean_squared_error(y_train, y_pred_tr))\n",
    "    print('Test MSE:', mean_squared_error(y_test, y_pred2))\n",
    "    print(ridge.coef_,'\\n')"
   ]
  },
  {
   "cell_type": "markdown",
   "id": "02fb320a",
   "metadata": {
    "id": "02fb320a"
   },
   "source": [
    "А какой коэффициент альфа лучший ? И нужна ли здесь регуляризация ?\n",
    "\n",
    "Чтобы ответить на этот вопрос мы можем с помощью кросс-валидации перебрать различные значения альфы и выбрать лучшее значение. Этот процесс называется оптимизацией гиперпараметров. Альфа является гиперпараметром, потому что задача оптимизации функционала не позволяет найти ее оптимальное значение (в отличие от весов регрессии)."
   ]
  },
  {
   "cell_type": "code",
   "execution_count": null,
   "id": "05b7cc0c-92ce-416e-aa88-6c31f967ade9",
   "metadata": {},
   "outputs": [],
   "source": []
  },
  {
   "cell_type": "markdown",
   "id": "d7a915e4-ca35-4acd-8a7d-f738e8a26017",
   "metadata": {},
   "source": [
    "ниже мы плдбираем альфу специальной библиотекой"
   ]
  },
  {
   "cell_type": "code",
   "execution_count": 108,
   "id": "a04ffd86",
   "metadata": {
    "ExecuteTime": {
     "end_time": "2021-09-20T20:03:55.295117Z",
     "start_time": "2021-09-20T20:03:55.135370Z"
    },
    "id": "a04ffd86",
    "outputId": "19aba09d-9ed6-4d2d-be20-7532e8dc0363"
   },
   "outputs": [
    {
     "name": "stdout",
     "output_type": "stream",
     "text": [
      "Optimal alpha value is 0.025125628240201005\n"
     ]
    }
   ],
   "source": [
    "from sklearn.linear_model import LassoCV\n",
    "\n",
    "n_alphas = 200\n",
    "alphas = np.linspace(1e-10, 5, n_alphas)\n",
    "\n",
    "lasso_cv = LassoCV(alphas=alphas, cv=5, random_state=42)\n",
    "lasso_cv.fit(X, y)\n",
    "\n",
    "print(f'Optimal alpha value is {lasso_cv.alpha_}')\n"
   ]
  },
  {
   "cell_type": "code",
   "execution_count": 2,
   "id": "20de9b2c",
   "metadata": {
    "ExecuteTime": {
     "end_time": "2021-09-20T20:04:01.101956Z",
     "start_time": "2021-09-20T20:03:55.296894Z"
    },
    "id": "20de9b2c",
    "outputId": "475d854b-c16e-4946-e90d-04e66485778c",
    "scrolled": true
   },
   "outputs": [
    {
     "ename": "NameError",
     "evalue": "name 'alphas' is not defined",
     "output_type": "error",
     "traceback": [
      "\u001b[1;31m---------------------------------------------------------------------------\u001b[0m",
      "\u001b[1;31mNameError\u001b[0m                                 Traceback (most recent call last)",
      "Cell \u001b[1;32mIn[2], line 6\u001b[0m\n\u001b[0;32m      1\u001b[0m \u001b[38;5;66;03m# Более общий способ использования кросс-валидации для поиска лучшего набора гиперпараметров\u001b[39;00m\n\u001b[0;32m      4\u001b[0m \u001b[38;5;28;01mfrom\u001b[39;00m \u001b[38;5;21;01msklearn\u001b[39;00m\u001b[38;5;21;01m.\u001b[39;00m\u001b[38;5;21;01mmodel_selection\u001b[39;00m \u001b[38;5;28;01mimport\u001b[39;00m GridSearchCV\n\u001b[1;32m----> 6\u001b[0m params \u001b[38;5;241m=\u001b[39m {\u001b[38;5;124m'\u001b[39m\u001b[38;5;124malpha\u001b[39m\u001b[38;5;124m'\u001b[39m:alphas,}\n\u001b[0;32m      8\u001b[0m \u001b[38;5;66;03m#print(params)\u001b[39;00m\n\u001b[0;32m      9\u001b[0m cv \u001b[38;5;241m=\u001b[39m GridSearchCV(lasso,\n\u001b[0;32m     10\u001b[0m                   params,\n\u001b[0;32m     11\u001b[0m                   scoring\u001b[38;5;241m=\u001b[39m\u001b[38;5;124m'\u001b[39m\u001b[38;5;124mr2\u001b[39m\u001b[38;5;124m'\u001b[39m,\n\u001b[0;32m     12\u001b[0m                   cv\u001b[38;5;241m=\u001b[39mnum_splits\n\u001b[0;32m     13\u001b[0m                  )\n",
      "\u001b[1;31mNameError\u001b[0m: name 'alphas' is not defined"
     ]
    }
   ],
   "source": [
    "# Более общий способ использования кросс-валидации для поиска лучшего набора гиперпараметров\n",
    "\n",
    "\n",
    "from sklearn.model_selection import GridSearchCV\n",
    "\n",
    "params = {'alpha':alphas,}\n",
    "\n",
    "#print(params)\n",
    "cv = GridSearchCV(lasso,\n",
    "                  params,\n",
    "                  scoring='r2',\n",
    "                  cv=num_splits\n",
    "                 )\n",
    "cv.fit(X, y)\n",
    "\n",
    "print(cv.best_params_)"
   ]
  },
  {
   "cell_type": "code",
   "execution_count": 151,
   "id": "5b529a63",
   "metadata": {},
   "outputs": [
    {
     "data": {
      "text/html": [
       "<div>\n",
       "<style scoped>\n",
       "    .dataframe tbody tr th:only-of-type {\n",
       "        vertical-align: middle;\n",
       "    }\n",
       "\n",
       "    .dataframe tbody tr th {\n",
       "        vertical-align: top;\n",
       "    }\n",
       "\n",
       "    .dataframe thead th {\n",
       "        text-align: right;\n",
       "    }\n",
       "</style>\n",
       "<table border=\"1\" class=\"dataframe\">\n",
       "  <thead>\n",
       "    <tr style=\"text-align: right;\">\n",
       "      <th></th>\n",
       "      <th>mean_fit_time</th>\n",
       "      <th>std_fit_time</th>\n",
       "      <th>mean_score_time</th>\n",
       "      <th>std_score_time</th>\n",
       "      <th>param_alpha</th>\n",
       "      <th>params</th>\n",
       "      <th>split0_test_score</th>\n",
       "      <th>split1_test_score</th>\n",
       "      <th>split2_test_score</th>\n",
       "      <th>split3_test_score</th>\n",
       "      <th>split4_test_score</th>\n",
       "      <th>mean_test_score</th>\n",
       "      <th>std_test_score</th>\n",
       "      <th>rank_test_score</th>\n",
       "    </tr>\n",
       "  </thead>\n",
       "  <tbody>\n",
       "    <tr>\n",
       "      <th>0</th>\n",
       "      <td>0.061087</td>\n",
       "      <td>0.011530</td>\n",
       "      <td>0.005424</td>\n",
       "      <td>0.000354</td>\n",
       "      <td>0.0</td>\n",
       "      <td>{'alpha': 1e-10}</td>\n",
       "      <td>0.374011</td>\n",
       "      <td>0.532243</td>\n",
       "      <td>0.447966</td>\n",
       "      <td>0.088060</td>\n",
       "      <td>0.476719</td>\n",
       "      <td>0.383800</td>\n",
       "      <td>0.156425</td>\n",
       "      <td>32</td>\n",
       "    </tr>\n",
       "    <tr>\n",
       "      <th>1</th>\n",
       "      <td>0.011559</td>\n",
       "      <td>0.000529</td>\n",
       "      <td>0.005973</td>\n",
       "      <td>0.000582</td>\n",
       "      <td>0.025126</td>\n",
       "      <td>{'alpha': 0.025125628240201005}</td>\n",
       "      <td>0.420838</td>\n",
       "      <td>0.520400</td>\n",
       "      <td>0.492165</td>\n",
       "      <td>0.432448</td>\n",
       "      <td>0.544555</td>\n",
       "      <td>0.482081</td>\n",
       "      <td>0.048347</td>\n",
       "      <td>1</td>\n",
       "    </tr>\n",
       "    <tr>\n",
       "      <th>2</th>\n",
       "      <td>0.010030</td>\n",
       "      <td>0.000422</td>\n",
       "      <td>0.005968</td>\n",
       "      <td>0.000908</td>\n",
       "      <td>0.050251</td>\n",
       "      <td>{'alpha': 0.05025125638040201}</td>\n",
       "      <td>0.414919</td>\n",
       "      <td>0.519239</td>\n",
       "      <td>0.491511</td>\n",
       "      <td>0.441288</td>\n",
       "      <td>0.543241</td>\n",
       "      <td>0.482040</td>\n",
       "      <td>0.047718</td>\n",
       "      <td>2</td>\n",
       "    </tr>\n",
       "    <tr>\n",
       "      <th>3</th>\n",
       "      <td>0.010795</td>\n",
       "      <td>0.001038</td>\n",
       "      <td>0.005360</td>\n",
       "      <td>0.001154</td>\n",
       "      <td>0.075377</td>\n",
       "      <td>{'alpha': 0.07537688452060301}</td>\n",
       "      <td>0.408844</td>\n",
       "      <td>0.517860</td>\n",
       "      <td>0.490503</td>\n",
       "      <td>0.447690</td>\n",
       "      <td>0.541514</td>\n",
       "      <td>0.481282</td>\n",
       "      <td>0.047805</td>\n",
       "      <td>3</td>\n",
       "    </tr>\n",
       "    <tr>\n",
       "      <th>4</th>\n",
       "      <td>0.011273</td>\n",
       "      <td>0.000566</td>\n",
       "      <td>0.005944</td>\n",
       "      <td>0.000999</td>\n",
       "      <td>0.100503</td>\n",
       "      <td>{'alpha': 0.10050251266080401}</td>\n",
       "      <td>0.401952</td>\n",
       "      <td>0.515022</td>\n",
       "      <td>0.488770</td>\n",
       "      <td>0.452689</td>\n",
       "      <td>0.538919</td>\n",
       "      <td>0.479470</td>\n",
       "      <td>0.048189</td>\n",
       "      <td>4</td>\n",
       "    </tr>\n",
       "    <tr>\n",
       "      <th>...</th>\n",
       "      <td>...</td>\n",
       "      <td>...</td>\n",
       "      <td>...</td>\n",
       "      <td>...</td>\n",
       "      <td>...</td>\n",
       "      <td>...</td>\n",
       "      <td>...</td>\n",
       "      <td>...</td>\n",
       "      <td>...</td>\n",
       "      <td>...</td>\n",
       "      <td>...</td>\n",
       "      <td>...</td>\n",
       "      <td>...</td>\n",
       "      <td>...</td>\n",
       "    </tr>\n",
       "    <tr>\n",
       "      <th>195</th>\n",
       "      <td>0.010496</td>\n",
       "      <td>0.000568</td>\n",
       "      <td>0.005757</td>\n",
       "      <td>0.000779</td>\n",
       "      <td>4.899497</td>\n",
       "      <td>{'alpha': 4.899497487439196}</td>\n",
       "      <td>-0.098448</td>\n",
       "      <td>-0.027867</td>\n",
       "      <td>-0.000533</td>\n",
       "      <td>-0.008342</td>\n",
       "      <td>-0.002340</td>\n",
       "      <td>-0.027506</td>\n",
       "      <td>0.036772</td>\n",
       "      <td>93</td>\n",
       "    </tr>\n",
       "    <tr>\n",
       "      <th>196</th>\n",
       "      <td>0.011784</td>\n",
       "      <td>0.002049</td>\n",
       "      <td>0.005804</td>\n",
       "      <td>0.000379</td>\n",
       "      <td>4.924623</td>\n",
       "      <td>{'alpha': 4.924623115579397}</td>\n",
       "      <td>-0.098448</td>\n",
       "      <td>-0.027867</td>\n",
       "      <td>-0.000533</td>\n",
       "      <td>-0.008342</td>\n",
       "      <td>-0.002340</td>\n",
       "      <td>-0.027506</td>\n",
       "      <td>0.036772</td>\n",
       "      <td>93</td>\n",
       "    </tr>\n",
       "    <tr>\n",
       "      <th>197</th>\n",
       "      <td>0.010307</td>\n",
       "      <td>0.000364</td>\n",
       "      <td>0.006324</td>\n",
       "      <td>0.000464</td>\n",
       "      <td>4.949749</td>\n",
       "      <td>{'alpha': 4.9497487437195975}</td>\n",
       "      <td>-0.098448</td>\n",
       "      <td>-0.027867</td>\n",
       "      <td>-0.000533</td>\n",
       "      <td>-0.008342</td>\n",
       "      <td>-0.002340</td>\n",
       "      <td>-0.027506</td>\n",
       "      <td>0.036772</td>\n",
       "      <td>93</td>\n",
       "    </tr>\n",
       "    <tr>\n",
       "      <th>198</th>\n",
       "      <td>0.010120</td>\n",
       "      <td>0.001128</td>\n",
       "      <td>0.006010</td>\n",
       "      <td>0.000500</td>\n",
       "      <td>4.974874</td>\n",
       "      <td>{'alpha': 4.974874371859799}</td>\n",
       "      <td>-0.098448</td>\n",
       "      <td>-0.027867</td>\n",
       "      <td>-0.000533</td>\n",
       "      <td>-0.008342</td>\n",
       "      <td>-0.002340</td>\n",
       "      <td>-0.027506</td>\n",
       "      <td>0.036772</td>\n",
       "      <td>93</td>\n",
       "    </tr>\n",
       "    <tr>\n",
       "      <th>199</th>\n",
       "      <td>0.010694</td>\n",
       "      <td>0.001206</td>\n",
       "      <td>0.005609</td>\n",
       "      <td>0.000516</td>\n",
       "      <td>5.0</td>\n",
       "      <td>{'alpha': 5.0}</td>\n",
       "      <td>-0.098448</td>\n",
       "      <td>-0.027867</td>\n",
       "      <td>-0.000533</td>\n",
       "      <td>-0.008342</td>\n",
       "      <td>-0.002340</td>\n",
       "      <td>-0.027506</td>\n",
       "      <td>0.036772</td>\n",
       "      <td>93</td>\n",
       "    </tr>\n",
       "  </tbody>\n",
       "</table>\n",
       "<p>200 rows × 14 columns</p>\n",
       "</div>"
      ],
      "text/plain": [
       "     mean_fit_time  std_fit_time  mean_score_time  std_score_time param_alpha  \\\n",
       "0         0.061087      0.011530         0.005424        0.000354         0.0   \n",
       "1         0.011559      0.000529         0.005973        0.000582    0.025126   \n",
       "2         0.010030      0.000422         0.005968        0.000908    0.050251   \n",
       "3         0.010795      0.001038         0.005360        0.001154    0.075377   \n",
       "4         0.011273      0.000566         0.005944        0.000999    0.100503   \n",
       "..             ...           ...              ...             ...         ...   \n",
       "195       0.010496      0.000568         0.005757        0.000779    4.899497   \n",
       "196       0.011784      0.002049         0.005804        0.000379    4.924623   \n",
       "197       0.010307      0.000364         0.006324        0.000464    4.949749   \n",
       "198       0.010120      0.001128         0.006010        0.000500    4.974874   \n",
       "199       0.010694      0.001206         0.005609        0.000516         5.0   \n",
       "\n",
       "                              params  split0_test_score  split1_test_score  \\\n",
       "0                   {'alpha': 1e-10}           0.374011           0.532243   \n",
       "1    {'alpha': 0.025125628240201005}           0.420838           0.520400   \n",
       "2     {'alpha': 0.05025125638040201}           0.414919           0.519239   \n",
       "3     {'alpha': 0.07537688452060301}           0.408844           0.517860   \n",
       "4     {'alpha': 0.10050251266080401}           0.401952           0.515022   \n",
       "..                               ...                ...                ...   \n",
       "195     {'alpha': 4.899497487439196}          -0.098448          -0.027867   \n",
       "196     {'alpha': 4.924623115579397}          -0.098448          -0.027867   \n",
       "197    {'alpha': 4.9497487437195975}          -0.098448          -0.027867   \n",
       "198     {'alpha': 4.974874371859799}          -0.098448          -0.027867   \n",
       "199                   {'alpha': 5.0}          -0.098448          -0.027867   \n",
       "\n",
       "     split2_test_score  split3_test_score  split4_test_score  mean_test_score  \\\n",
       "0             0.447966           0.088060           0.476719         0.383800   \n",
       "1             0.492165           0.432448           0.544555         0.482081   \n",
       "2             0.491511           0.441288           0.543241         0.482040   \n",
       "3             0.490503           0.447690           0.541514         0.481282   \n",
       "4             0.488770           0.452689           0.538919         0.479470   \n",
       "..                 ...                ...                ...              ...   \n",
       "195          -0.000533          -0.008342          -0.002340        -0.027506   \n",
       "196          -0.000533          -0.008342          -0.002340        -0.027506   \n",
       "197          -0.000533          -0.008342          -0.002340        -0.027506   \n",
       "198          -0.000533          -0.008342          -0.002340        -0.027506   \n",
       "199          -0.000533          -0.008342          -0.002340        -0.027506   \n",
       "\n",
       "     std_test_score  rank_test_score  \n",
       "0          0.156425               32  \n",
       "1          0.048347                1  \n",
       "2          0.047718                2  \n",
       "3          0.047805                3  \n",
       "4          0.048189                4  \n",
       "..              ...              ...  \n",
       "195        0.036772               93  \n",
       "196        0.036772               93  \n",
       "197        0.036772               93  \n",
       "198        0.036772               93  \n",
       "199        0.036772               93  \n",
       "\n",
       "[200 rows x 14 columns]"
      ]
     },
     "execution_count": 151,
     "metadata": {},
     "output_type": "execute_result"
    }
   ],
   "source": [
    "pd.DataFrame(cv.cv_results_)"
   ]
  },
  {
   "cell_type": "markdown",
   "id": "3b10f2a2",
   "metadata": {
    "id": "3b10f2a2"
   },
   "source": [
    "Больше про то, как задавать поле поиска и какие еще есть методы оптимизации гиперпараметров можете прочитать здесь\n",
    "\n",
    "https://scikit-learn.org/stable/modules/grid_search.html"
   ]
  },
  {
   "cell_type": "code",
   "execution_count": null,
   "id": "291775c8-ffac-4fa6-85b4-25570a3a8b62",
   "metadata": {},
   "outputs": [],
   "source": []
  },
  {
   "cell_type": "code",
   "execution_count": null,
   "id": "18f81657-4ccc-4c6d-ad7f-9bc45ebf0acf",
   "metadata": {},
   "outputs": [],
   "source": []
  },
  {
   "cell_type": "code",
   "execution_count": null,
   "id": "afc25ccc-26c1-4a98-8016-43339feee96d",
   "metadata": {},
   "outputs": [],
   "source": []
  },
  {
   "cell_type": "code",
   "execution_count": null,
   "id": "85fd0e8d-b931-44a3-bced-b2789f6e1397",
   "metadata": {},
   "outputs": [],
   "source": []
  },
  {
   "cell_type": "code",
   "execution_count": null,
   "id": "a5bc00fb-91d8-4ab1-a620-f46e3154c165",
   "metadata": {},
   "outputs": [],
   "source": []
  },
  {
   "cell_type": "code",
   "execution_count": null,
   "id": "1a255ce6-bca8-4c22-9cb3-474755cf0c62",
   "metadata": {},
   "outputs": [],
   "source": []
  },
  {
   "cell_type": "code",
   "execution_count": null,
   "id": "15f09755-5d7b-4dd4-9c9c-4e3045258517",
   "metadata": {},
   "outputs": [],
   "source": []
  },
  {
   "cell_type": "code",
   "execution_count": null,
   "id": "9f66179d-0f14-421a-a3d4-25b847816575",
   "metadata": {},
   "outputs": [],
   "source": []
  },
  {
   "cell_type": "code",
   "execution_count": null,
   "id": "1bb35950-60b3-40cf-bb4a-8e8df2898f49",
   "metadata": {},
   "outputs": [],
   "source": []
  },
  {
   "cell_type": "code",
   "execution_count": null,
   "id": "2fe7e045-05af-48ea-9bfa-c2cc87ce2f60",
   "metadata": {},
   "outputs": [],
   "source": []
  },
  {
   "cell_type": "code",
   "execution_count": null,
   "id": "822a5d9e-34a1-4e60-9b59-17ae8af4a937",
   "metadata": {},
   "outputs": [],
   "source": []
  },
  {
   "cell_type": "code",
   "execution_count": null,
   "id": "594825b6-7581-40c2-b27b-d092936cabb8",
   "metadata": {},
   "outputs": [],
   "source": []
  },
  {
   "cell_type": "code",
   "execution_count": null,
   "id": "46eedef4-7a0e-4635-9b3d-4dff7a7a62b6",
   "metadata": {},
   "outputs": [],
   "source": []
  },
  {
   "cell_type": "code",
   "execution_count": null,
   "id": "4e7e80a9-2d0e-453d-8a0f-27f97c33e357",
   "metadata": {},
   "outputs": [],
   "source": []
  },
  {
   "cell_type": "code",
   "execution_count": null,
   "id": "00c65607-914b-4fe0-a2ce-c8ee6561e831",
   "metadata": {},
   "outputs": [],
   "source": []
  }
 ],
 "metadata": {
  "colab": {
   "provenance": []
  },
  "kernelspec": {
   "display_name": "Python 3 (ipykernel)",
   "language": "python",
   "name": "python3"
  },
  "language_info": {
   "codemirror_mode": {
    "name": "ipython",
    "version": 3
   },
   "file_extension": ".py",
   "mimetype": "text/x-python",
   "name": "python",
   "nbconvert_exporter": "python",
   "pygments_lexer": "ipython3",
   "version": "3.12.4"
  },
  "toc": {
   "base_numbering": 1,
   "nav_menu": {},
   "number_sections": true,
   "sideBar": true,
   "skip_h1_title": false,
   "title_cell": "Table of Contents",
   "title_sidebar": "Contents",
   "toc_cell": false,
   "toc_position": {},
   "toc_section_display": true,
   "toc_window_display": true
  }
 },
 "nbformat": 4,
 "nbformat_minor": 5
}
